{
 "cells": [
  {
   "cell_type": "code",
   "execution_count": 1,
   "metadata": {
    "_cell_guid": "b1076dfc-b9ad-4769-8c92-a6c4dae69d19",
    "_uuid": "8f2839f25d086af736a60e9eeb907d3b93b6e0e5"
   },
   "outputs": [],
   "source": [
    "import numpy as np # linear algebra\n",
    "import pandas as pd # data processing, CSV file I/O (e.g. pd.read_csv)\n",
    "%matplotlib inline\n",
    "import matplotlib.pyplot as plt  # Matlab-style plotting\n",
    "import seaborn as sns\n",
    "color = sns.color_palette()\n",
    "sns.set_style('darkgrid')\n",
    "import warnings\n",
    "def ignore_warn(*args, **kwargs):\n",
    "    pass\n",
    "warnings.warn = ignore_warn #ignore annoying warning (from sklearn and seaborn)\n",
    "\n",
    "warnings.filterwarnings('ignore')\n",
    "\n",
    "from scipy import stats\n",
    "from scipy.stats import norm, skew #for some statistics"
   ]
  },
  {
   "cell_type": "code",
   "execution_count": 2,
   "metadata": {
    "_cell_guid": "79c7e3d0-c299-4dcb-8224-4455121ee9b0",
    "_uuid": "d629ff2d2480ee46fbb7e2d37f6b5fab8052498a"
   },
   "outputs": [],
   "source": [
    "#load datasets\n",
    "traindemographics = pd.read_csv('data/traindemographics.csv', parse_dates=['birthdate'])\n",
    "testdemographics = pd.read_csv('data/testdemographics.csv', parse_dates=['birthdate'])\n",
    "trainperf = pd.read_csv('data/trainperf.csv', parse_dates=['approveddate','creationdate'])\n",
    "testperf = pd.read_csv('data/testperf.csv',parse_dates=['approveddate','creationdate'])\n",
    "trainprevloans= pd.read_csv('data/trainprevloans.csv', parse_dates=['approveddate','creationdate','closeddate','firstduedate','firstrepaiddate'])\n",
    "testprevloans = pd.read_csv('data/testprevloans.csv', parse_dates=['approveddate','creationdate','closeddate','firstduedate','firstrepaiddate'])"
   ]
  },
  {
   "cell_type": "code",
   "execution_count": 3,
   "metadata": {
    "_uuid": "8ef6507d29a16e8fdc448032aada08f5a930a5c6"
   },
   "outputs": [
    {
     "name": "stdout",
     "output_type": "stream",
     "text": [
      "traindemographics shape: (4346, 9)\n",
      "testdemographics shape: (1487, 9)\n",
      "trainperf shape: (4368, 10)\n",
      "testperf shape: (1450, 9)\n",
      "trainprevloans shape: (18183, 12)\n",
      "testprevloans shape: (5907, 12)\n"
     ]
    }
   ],
   "source": [
    "#Print the size and shape of the data\n",
    "print('traindemographics shape:', traindemographics.shape)\n",
    "print('testdemographics shape:', testdemographics.shape)\n",
    "print('trainperf shape:', trainperf.shape)\n",
    "print('testperf shape:', testperf.shape)\n",
    "print('trainprevloans shape:', trainprevloans.shape)\n",
    "print('testprevloans shape:', testprevloans.shape)"
   ]
  },
  {
   "cell_type": "markdown",
   "metadata": {
    "_uuid": "c69642b7522bf8d4996579825aa51a1e19f322c8"
   },
   "source": [
    "Let's preview all features"
   ]
  },
  {
   "cell_type": "code",
   "execution_count": 4,
   "metadata": {
    "_uuid": "f16bc98e1aad5db64a2f4423a37e5b2d33c10ee7"
   },
   "outputs": [
    {
     "data": {
      "text/html": [
       "<div>\n",
       "<style scoped>\n",
       "    .dataframe tbody tr th:only-of-type {\n",
       "        vertical-align: middle;\n",
       "    }\n",
       "\n",
       "    .dataframe tbody tr th {\n",
       "        vertical-align: top;\n",
       "    }\n",
       "\n",
       "    .dataframe thead th {\n",
       "        text-align: right;\n",
       "    }\n",
       "</style>\n",
       "<table border=\"1\" class=\"dataframe\">\n",
       "  <thead>\n",
       "    <tr style=\"text-align: right;\">\n",
       "      <th></th>\n",
       "      <th>customerid</th>\n",
       "      <th>birthdate</th>\n",
       "      <th>bank_account_type</th>\n",
       "      <th>longitude_gps</th>\n",
       "      <th>latitude_gps</th>\n",
       "      <th>bank_name_clients</th>\n",
       "      <th>bank_branch_clients</th>\n",
       "      <th>employment_status_clients</th>\n",
       "      <th>level_of_education_clients</th>\n",
       "    </tr>\n",
       "  </thead>\n",
       "  <tbody>\n",
       "    <tr>\n",
       "      <th>0</th>\n",
       "      <td>8a858e135cb22031015cbafc76964ebd</td>\n",
       "      <td>1973-10-10</td>\n",
       "      <td>Savings</td>\n",
       "      <td>3.319219</td>\n",
       "      <td>6.528604</td>\n",
       "      <td>GT Bank</td>\n",
       "      <td>NaN</td>\n",
       "      <td>NaN</td>\n",
       "      <td>NaN</td>\n",
       "    </tr>\n",
       "    <tr>\n",
       "      <th>1</th>\n",
       "      <td>8a858e275c7ea5ec015c82482d7c3996</td>\n",
       "      <td>1986-01-21</td>\n",
       "      <td>Savings</td>\n",
       "      <td>3.325598</td>\n",
       "      <td>7.119403</td>\n",
       "      <td>Sterling Bank</td>\n",
       "      <td>NaN</td>\n",
       "      <td>Permanent</td>\n",
       "      <td>NaN</td>\n",
       "    </tr>\n",
       "    <tr>\n",
       "      <th>2</th>\n",
       "      <td>8a858e5b5bd99460015bdc95cd485634</td>\n",
       "      <td>1987-04-01</td>\n",
       "      <td>Savings</td>\n",
       "      <td>5.746100</td>\n",
       "      <td>5.563174</td>\n",
       "      <td>Fidelity Bank</td>\n",
       "      <td>NaN</td>\n",
       "      <td>NaN</td>\n",
       "      <td>NaN</td>\n",
       "    </tr>\n",
       "    <tr>\n",
       "      <th>3</th>\n",
       "      <td>8a858efd5ca70688015cabd1f1e94b55</td>\n",
       "      <td>1991-07-19</td>\n",
       "      <td>Savings</td>\n",
       "      <td>3.362850</td>\n",
       "      <td>6.642485</td>\n",
       "      <td>GT Bank</td>\n",
       "      <td>NaN</td>\n",
       "      <td>Permanent</td>\n",
       "      <td>NaN</td>\n",
       "    </tr>\n",
       "    <tr>\n",
       "      <th>4</th>\n",
       "      <td>8a858e785acd3412015acd48f4920d04</td>\n",
       "      <td>1982-11-22</td>\n",
       "      <td>Savings</td>\n",
       "      <td>8.455332</td>\n",
       "      <td>11.971410</td>\n",
       "      <td>GT Bank</td>\n",
       "      <td>NaN</td>\n",
       "      <td>Permanent</td>\n",
       "      <td>NaN</td>\n",
       "    </tr>\n",
       "  </tbody>\n",
       "</table>\n",
       "</div>"
      ],
      "text/plain": [
       "                         customerid  birthdate bank_account_type  \\\n",
       "0  8a858e135cb22031015cbafc76964ebd 1973-10-10           Savings   \n",
       "1  8a858e275c7ea5ec015c82482d7c3996 1986-01-21           Savings   \n",
       "2  8a858e5b5bd99460015bdc95cd485634 1987-04-01           Savings   \n",
       "3  8a858efd5ca70688015cabd1f1e94b55 1991-07-19           Savings   \n",
       "4  8a858e785acd3412015acd48f4920d04 1982-11-22           Savings   \n",
       "\n",
       "   longitude_gps  latitude_gps bank_name_clients bank_branch_clients  \\\n",
       "0       3.319219      6.528604           GT Bank                 NaN   \n",
       "1       3.325598      7.119403     Sterling Bank                 NaN   \n",
       "2       5.746100      5.563174     Fidelity Bank                 NaN   \n",
       "3       3.362850      6.642485           GT Bank                 NaN   \n",
       "4       8.455332     11.971410           GT Bank                 NaN   \n",
       "\n",
       "  employment_status_clients level_of_education_clients  \n",
       "0                       NaN                        NaN  \n",
       "1                 Permanent                        NaN  \n",
       "2                       NaN                        NaN  \n",
       "3                 Permanent                        NaN  \n",
       "4                 Permanent                        NaN  "
      ]
     },
     "execution_count": 4,
     "metadata": {},
     "output_type": "execute_result"
    }
   ],
   "source": [
    "traindemographics.head()"
   ]
  },
  {
   "cell_type": "code",
   "execution_count": 5,
   "metadata": {
    "_uuid": "f6f878535756cd8a5b46a8395be63556b061b94c"
   },
   "outputs": [
    {
     "data": {
      "text/html": [
       "<div>\n",
       "<style scoped>\n",
       "    .dataframe tbody tr th:only-of-type {\n",
       "        vertical-align: middle;\n",
       "    }\n",
       "\n",
       "    .dataframe tbody tr th {\n",
       "        vertical-align: top;\n",
       "    }\n",
       "\n",
       "    .dataframe thead th {\n",
       "        text-align: right;\n",
       "    }\n",
       "</style>\n",
       "<table border=\"1\" class=\"dataframe\">\n",
       "  <thead>\n",
       "    <tr style=\"text-align: right;\">\n",
       "      <th></th>\n",
       "      <th>customerid</th>\n",
       "      <th>birthdate</th>\n",
       "      <th>bank_account_type</th>\n",
       "      <th>longitude_gps</th>\n",
       "      <th>latitude_gps</th>\n",
       "      <th>bank_name_clients</th>\n",
       "      <th>bank_branch_clients</th>\n",
       "      <th>employment_status_clients</th>\n",
       "      <th>level_of_education_clients</th>\n",
       "    </tr>\n",
       "  </thead>\n",
       "  <tbody>\n",
       "    <tr>\n",
       "      <th>0</th>\n",
       "      <td>8a858f305c8dd672015c93b1db645db4</td>\n",
       "      <td>1976-08-28</td>\n",
       "      <td>Savings</td>\n",
       "      <td>5.296628</td>\n",
       "      <td>7.593965</td>\n",
       "      <td>Heritage Bank</td>\n",
       "      <td>NaN</td>\n",
       "      <td>Permanent</td>\n",
       "      <td>NaN</td>\n",
       "    </tr>\n",
       "    <tr>\n",
       "      <th>1</th>\n",
       "      <td>8a858f085a477386015a47fb049e49ca</td>\n",
       "      <td>1978-06-23</td>\n",
       "      <td>Savings</td>\n",
       "      <td>3.294513</td>\n",
       "      <td>6.596602</td>\n",
       "      <td>UBA</td>\n",
       "      <td>NaN</td>\n",
       "      <td>Permanent</td>\n",
       "      <td>NaN</td>\n",
       "    </tr>\n",
       "    <tr>\n",
       "      <th>2</th>\n",
       "      <td>8a858e6f5cd5e874015cd6f5634c39ad</td>\n",
       "      <td>1984-04-04</td>\n",
       "      <td>Savings</td>\n",
       "      <td>8.501912</td>\n",
       "      <td>7.729364</td>\n",
       "      <td>First Bank</td>\n",
       "      <td>NaN</td>\n",
       "      <td>Permanent</td>\n",
       "      <td>NaN</td>\n",
       "    </tr>\n",
       "    <tr>\n",
       "      <th>3</th>\n",
       "      <td>8a858e9d5bfd7037015bfdab79f61305</td>\n",
       "      <td>1983-05-28</td>\n",
       "      <td>Savings</td>\n",
       "      <td>3.318904</td>\n",
       "      <td>6.681595</td>\n",
       "      <td>UBA</td>\n",
       "      <td>NaN</td>\n",
       "      <td>Permanent</td>\n",
       "      <td>NaN</td>\n",
       "    </tr>\n",
       "    <tr>\n",
       "      <th>4</th>\n",
       "      <td>8a858fde56eb02280156eb6dafc128ac</td>\n",
       "      <td>1982-03-29</td>\n",
       "      <td>Savings</td>\n",
       "      <td>6.354624</td>\n",
       "      <td>4.949031</td>\n",
       "      <td>First Bank</td>\n",
       "      <td>NaN</td>\n",
       "      <td>Self-Employed</td>\n",
       "      <td>NaN</td>\n",
       "    </tr>\n",
       "  </tbody>\n",
       "</table>\n",
       "</div>"
      ],
      "text/plain": [
       "                         customerid  birthdate bank_account_type  \\\n",
       "0  8a858f305c8dd672015c93b1db645db4 1976-08-28           Savings   \n",
       "1  8a858f085a477386015a47fb049e49ca 1978-06-23           Savings   \n",
       "2  8a858e6f5cd5e874015cd6f5634c39ad 1984-04-04           Savings   \n",
       "3  8a858e9d5bfd7037015bfdab79f61305 1983-05-28           Savings   \n",
       "4  8a858fde56eb02280156eb6dafc128ac 1982-03-29           Savings   \n",
       "\n",
       "   longitude_gps  latitude_gps bank_name_clients bank_branch_clients  \\\n",
       "0       5.296628      7.593965     Heritage Bank                 NaN   \n",
       "1       3.294513      6.596602               UBA                 NaN   \n",
       "2       8.501912      7.729364        First Bank                 NaN   \n",
       "3       3.318904      6.681595               UBA                 NaN   \n",
       "4       6.354624      4.949031        First Bank                 NaN   \n",
       "\n",
       "  employment_status_clients level_of_education_clients  \n",
       "0                 Permanent                        NaN  \n",
       "1                 Permanent                        NaN  \n",
       "2                 Permanent                        NaN  \n",
       "3                 Permanent                        NaN  \n",
       "4             Self-Employed                        NaN  "
      ]
     },
     "execution_count": 5,
     "metadata": {},
     "output_type": "execute_result"
    }
   ],
   "source": [
    "testdemographics.head()"
   ]
  },
  {
   "cell_type": "code",
   "execution_count": 6,
   "metadata": {
    "_uuid": "fcf4073701559be366ee0b8ab8601de56420ac1a"
   },
   "outputs": [
    {
     "data": {
      "text/html": [
       "<div>\n",
       "<style scoped>\n",
       "    .dataframe tbody tr th:only-of-type {\n",
       "        vertical-align: middle;\n",
       "    }\n",
       "\n",
       "    .dataframe tbody tr th {\n",
       "        vertical-align: top;\n",
       "    }\n",
       "\n",
       "    .dataframe thead th {\n",
       "        text-align: right;\n",
       "    }\n",
       "</style>\n",
       "<table border=\"1\" class=\"dataframe\">\n",
       "  <thead>\n",
       "    <tr style=\"text-align: right;\">\n",
       "      <th></th>\n",
       "      <th>customerid</th>\n",
       "      <th>systemloanid</th>\n",
       "      <th>loannumber</th>\n",
       "      <th>approveddate</th>\n",
       "      <th>creationdate</th>\n",
       "      <th>loanamount</th>\n",
       "      <th>totaldue</th>\n",
       "      <th>termdays</th>\n",
       "      <th>referredby</th>\n",
       "      <th>good_bad_flag</th>\n",
       "    </tr>\n",
       "  </thead>\n",
       "  <tbody>\n",
       "    <tr>\n",
       "      <th>0</th>\n",
       "      <td>8a2a81a74ce8c05d014cfb32a0da1049</td>\n",
       "      <td>301994762</td>\n",
       "      <td>12</td>\n",
       "      <td>2017-07-25 08:22:56</td>\n",
       "      <td>2017-07-25 07:22:47</td>\n",
       "      <td>30000.0</td>\n",
       "      <td>34500.0</td>\n",
       "      <td>30</td>\n",
       "      <td>NaN</td>\n",
       "      <td>Good</td>\n",
       "    </tr>\n",
       "    <tr>\n",
       "      <th>1</th>\n",
       "      <td>8a85886e54beabf90154c0a29ae757c0</td>\n",
       "      <td>301965204</td>\n",
       "      <td>2</td>\n",
       "      <td>2017-07-05 17:04:41</td>\n",
       "      <td>2017-07-05 16:04:18</td>\n",
       "      <td>15000.0</td>\n",
       "      <td>17250.0</td>\n",
       "      <td>30</td>\n",
       "      <td>NaN</td>\n",
       "      <td>Good</td>\n",
       "    </tr>\n",
       "    <tr>\n",
       "      <th>2</th>\n",
       "      <td>8a8588f35438fe12015444567666018e</td>\n",
       "      <td>301966580</td>\n",
       "      <td>7</td>\n",
       "      <td>2017-07-06 14:52:57</td>\n",
       "      <td>2017-07-06 13:52:51</td>\n",
       "      <td>20000.0</td>\n",
       "      <td>22250.0</td>\n",
       "      <td>15</td>\n",
       "      <td>NaN</td>\n",
       "      <td>Good</td>\n",
       "    </tr>\n",
       "    <tr>\n",
       "      <th>3</th>\n",
       "      <td>8a85890754145ace015429211b513e16</td>\n",
       "      <td>301999343</td>\n",
       "      <td>3</td>\n",
       "      <td>2017-07-27 19:00:41</td>\n",
       "      <td>2017-07-27 18:00:35</td>\n",
       "      <td>10000.0</td>\n",
       "      <td>11500.0</td>\n",
       "      <td>15</td>\n",
       "      <td>NaN</td>\n",
       "      <td>Good</td>\n",
       "    </tr>\n",
       "    <tr>\n",
       "      <th>4</th>\n",
       "      <td>8a858970548359cc0154883481981866</td>\n",
       "      <td>301962360</td>\n",
       "      <td>9</td>\n",
       "      <td>2017-07-03 23:42:45</td>\n",
       "      <td>2017-07-03 22:42:39</td>\n",
       "      <td>40000.0</td>\n",
       "      <td>44000.0</td>\n",
       "      <td>30</td>\n",
       "      <td>NaN</td>\n",
       "      <td>Good</td>\n",
       "    </tr>\n",
       "  </tbody>\n",
       "</table>\n",
       "</div>"
      ],
      "text/plain": [
       "                         customerid  systemloanid  loannumber  \\\n",
       "0  8a2a81a74ce8c05d014cfb32a0da1049     301994762          12   \n",
       "1  8a85886e54beabf90154c0a29ae757c0     301965204           2   \n",
       "2  8a8588f35438fe12015444567666018e     301966580           7   \n",
       "3  8a85890754145ace015429211b513e16     301999343           3   \n",
       "4  8a858970548359cc0154883481981866     301962360           9   \n",
       "\n",
       "         approveddate        creationdate  loanamount  totaldue  termdays  \\\n",
       "0 2017-07-25 08:22:56 2017-07-25 07:22:47     30000.0   34500.0        30   \n",
       "1 2017-07-05 17:04:41 2017-07-05 16:04:18     15000.0   17250.0        30   \n",
       "2 2017-07-06 14:52:57 2017-07-06 13:52:51     20000.0   22250.0        15   \n",
       "3 2017-07-27 19:00:41 2017-07-27 18:00:35     10000.0   11500.0        15   \n",
       "4 2017-07-03 23:42:45 2017-07-03 22:42:39     40000.0   44000.0        30   \n",
       "\n",
       "  referredby good_bad_flag  \n",
       "0        NaN          Good  \n",
       "1        NaN          Good  \n",
       "2        NaN          Good  \n",
       "3        NaN          Good  \n",
       "4        NaN          Good  "
      ]
     },
     "execution_count": 6,
     "metadata": {},
     "output_type": "execute_result"
    }
   ],
   "source": [
    "trainperf.head()"
   ]
  },
  {
   "cell_type": "code",
   "execution_count": 7,
   "metadata": {
    "_uuid": "43ff871be9eb012e2ee728283cdc9a195c31e799"
   },
   "outputs": [
    {
     "data": {
      "text/html": [
       "<div>\n",
       "<style scoped>\n",
       "    .dataframe tbody tr th:only-of-type {\n",
       "        vertical-align: middle;\n",
       "    }\n",
       "\n",
       "    .dataframe tbody tr th {\n",
       "        vertical-align: top;\n",
       "    }\n",
       "\n",
       "    .dataframe thead th {\n",
       "        text-align: right;\n",
       "    }\n",
       "</style>\n",
       "<table border=\"1\" class=\"dataframe\">\n",
       "  <thead>\n",
       "    <tr style=\"text-align: right;\">\n",
       "      <th></th>\n",
       "      <th>customerid</th>\n",
       "      <th>systemloanid</th>\n",
       "      <th>loannumber</th>\n",
       "      <th>approveddate</th>\n",
       "      <th>creationdate</th>\n",
       "      <th>loanamount</th>\n",
       "      <th>totaldue</th>\n",
       "      <th>termdays</th>\n",
       "      <th>referredby</th>\n",
       "    </tr>\n",
       "  </thead>\n",
       "  <tbody>\n",
       "    <tr>\n",
       "      <th>0</th>\n",
       "      <td>8a858899538ddb8e015390510b321f08</td>\n",
       "      <td>301998974</td>\n",
       "      <td>4</td>\n",
       "      <td>40:48.0</td>\n",
       "      <td>39:35.0</td>\n",
       "      <td>10000</td>\n",
       "      <td>12250.0</td>\n",
       "      <td>30</td>\n",
       "      <td>NaN</td>\n",
       "    </tr>\n",
       "    <tr>\n",
       "      <th>1</th>\n",
       "      <td>8a858959537a097401537a4e316e25f7</td>\n",
       "      <td>301963615</td>\n",
       "      <td>10</td>\n",
       "      <td>43:40.0</td>\n",
       "      <td>42:34.0</td>\n",
       "      <td>40000</td>\n",
       "      <td>44000.0</td>\n",
       "      <td>30</td>\n",
       "      <td>NaN</td>\n",
       "    </tr>\n",
       "    <tr>\n",
       "      <th>2</th>\n",
       "      <td>8a8589c253ace09b0153af6ba58f1f31</td>\n",
       "      <td>301982236</td>\n",
       "      <td>6</td>\n",
       "      <td>15:11.0</td>\n",
       "      <td>15:04.0</td>\n",
       "      <td>20000</td>\n",
       "      <td>24500.0</td>\n",
       "      <td>30</td>\n",
       "      <td>NaN</td>\n",
       "    </tr>\n",
       "    <tr>\n",
       "      <th>3</th>\n",
       "      <td>8a858e095aae82b7015aae86ca1e030b</td>\n",
       "      <td>301971730</td>\n",
       "      <td>8</td>\n",
       "      <td>00:54.0</td>\n",
       "      <td>00:49.0</td>\n",
       "      <td>30000</td>\n",
       "      <td>34500.0</td>\n",
       "      <td>30</td>\n",
       "      <td>NaN</td>\n",
       "    </tr>\n",
       "    <tr>\n",
       "      <th>4</th>\n",
       "      <td>8a858e225a28c713015a30db5c48383d</td>\n",
       "      <td>301959177</td>\n",
       "      <td>4</td>\n",
       "      <td>04:33.0</td>\n",
       "      <td>04:27.0</td>\n",
       "      <td>20000</td>\n",
       "      <td>24500.0</td>\n",
       "      <td>30</td>\n",
       "      <td>NaN</td>\n",
       "    </tr>\n",
       "  </tbody>\n",
       "</table>\n",
       "</div>"
      ],
      "text/plain": [
       "                         customerid  systemloanid  loannumber approveddate  \\\n",
       "0  8a858899538ddb8e015390510b321f08     301998974           4      40:48.0   \n",
       "1  8a858959537a097401537a4e316e25f7     301963615          10      43:40.0   \n",
       "2  8a8589c253ace09b0153af6ba58f1f31     301982236           6      15:11.0   \n",
       "3  8a858e095aae82b7015aae86ca1e030b     301971730           8      00:54.0   \n",
       "4  8a858e225a28c713015a30db5c48383d     301959177           4      04:33.0   \n",
       "\n",
       "  creationdate  loanamount  totaldue  termdays referredby  \n",
       "0      39:35.0       10000   12250.0        30        NaN  \n",
       "1      42:34.0       40000   44000.0        30        NaN  \n",
       "2      15:04.0       20000   24500.0        30        NaN  \n",
       "3      00:49.0       30000   34500.0        30        NaN  \n",
       "4      04:27.0       20000   24500.0        30        NaN  "
      ]
     },
     "execution_count": 7,
     "metadata": {},
     "output_type": "execute_result"
    }
   ],
   "source": [
    "testperf.head()"
   ]
  },
  {
   "cell_type": "code",
   "execution_count": 8,
   "metadata": {
    "_uuid": "7757610d00ffa3d391b29ffbbc6813bc40e4ed39"
   },
   "outputs": [
    {
     "data": {
      "text/html": [
       "<div>\n",
       "<style scoped>\n",
       "    .dataframe tbody tr th:only-of-type {\n",
       "        vertical-align: middle;\n",
       "    }\n",
       "\n",
       "    .dataframe tbody tr th {\n",
       "        vertical-align: top;\n",
       "    }\n",
       "\n",
       "    .dataframe thead th {\n",
       "        text-align: right;\n",
       "    }\n",
       "</style>\n",
       "<table border=\"1\" class=\"dataframe\">\n",
       "  <thead>\n",
       "    <tr style=\"text-align: right;\">\n",
       "      <th></th>\n",
       "      <th>customerid</th>\n",
       "      <th>systemloanid</th>\n",
       "      <th>loannumber</th>\n",
       "      <th>approveddate</th>\n",
       "      <th>creationdate</th>\n",
       "      <th>loanamount</th>\n",
       "      <th>totaldue</th>\n",
       "      <th>termdays</th>\n",
       "      <th>closeddate</th>\n",
       "      <th>referredby</th>\n",
       "      <th>firstduedate</th>\n",
       "      <th>firstrepaiddate</th>\n",
       "    </tr>\n",
       "  </thead>\n",
       "  <tbody>\n",
       "    <tr>\n",
       "      <th>0</th>\n",
       "      <td>8a2a81a74ce8c05d014cfb32a0da1049</td>\n",
       "      <td>301682320</td>\n",
       "      <td>2</td>\n",
       "      <td>2016-08-15 18:22:40</td>\n",
       "      <td>2016-08-15 17:22:32</td>\n",
       "      <td>10000.0</td>\n",
       "      <td>13000.0</td>\n",
       "      <td>30</td>\n",
       "      <td>2016-09-01 16:06:48</td>\n",
       "      <td>NaN</td>\n",
       "      <td>2016-09-14</td>\n",
       "      <td>2016-09-01 15:51:43</td>\n",
       "    </tr>\n",
       "    <tr>\n",
       "      <th>1</th>\n",
       "      <td>8a2a81a74ce8c05d014cfb32a0da1049</td>\n",
       "      <td>301883808</td>\n",
       "      <td>9</td>\n",
       "      <td>2017-04-28 18:39:07</td>\n",
       "      <td>2017-04-28 17:38:53</td>\n",
       "      <td>10000.0</td>\n",
       "      <td>13000.0</td>\n",
       "      <td>30</td>\n",
       "      <td>2017-05-28 14:44:49</td>\n",
       "      <td>NaN</td>\n",
       "      <td>2017-05-30</td>\n",
       "      <td>2017-05-26 00:00:00</td>\n",
       "    </tr>\n",
       "    <tr>\n",
       "      <th>2</th>\n",
       "      <td>8a2a81a74ce8c05d014cfb32a0da1049</td>\n",
       "      <td>301831714</td>\n",
       "      <td>8</td>\n",
       "      <td>2017-03-05 10:56:25</td>\n",
       "      <td>2017-03-05 09:56:19</td>\n",
       "      <td>20000.0</td>\n",
       "      <td>23800.0</td>\n",
       "      <td>30</td>\n",
       "      <td>2017-04-26 22:18:56</td>\n",
       "      <td>NaN</td>\n",
       "      <td>2017-04-04</td>\n",
       "      <td>2017-04-26 22:03:47</td>\n",
       "    </tr>\n",
       "    <tr>\n",
       "      <th>3</th>\n",
       "      <td>8a8588f35438fe12015444567666018e</td>\n",
       "      <td>301861541</td>\n",
       "      <td>5</td>\n",
       "      <td>2017-04-09 18:25:55</td>\n",
       "      <td>2017-04-09 17:25:42</td>\n",
       "      <td>10000.0</td>\n",
       "      <td>11500.0</td>\n",
       "      <td>15</td>\n",
       "      <td>2017-04-24 01:35:52</td>\n",
       "      <td>NaN</td>\n",
       "      <td>2017-04-24</td>\n",
       "      <td>2017-04-24 00:48:43</td>\n",
       "    </tr>\n",
       "    <tr>\n",
       "      <th>4</th>\n",
       "      <td>8a85890754145ace015429211b513e16</td>\n",
       "      <td>301941754</td>\n",
       "      <td>2</td>\n",
       "      <td>2017-06-17 09:29:57</td>\n",
       "      <td>2017-06-17 08:29:50</td>\n",
       "      <td>10000.0</td>\n",
       "      <td>11500.0</td>\n",
       "      <td>15</td>\n",
       "      <td>2017-07-14 21:18:43</td>\n",
       "      <td>NaN</td>\n",
       "      <td>2017-07-03</td>\n",
       "      <td>2017-07-14 21:08:35</td>\n",
       "    </tr>\n",
       "  </tbody>\n",
       "</table>\n",
       "</div>"
      ],
      "text/plain": [
       "                         customerid  systemloanid  loannumber  \\\n",
       "0  8a2a81a74ce8c05d014cfb32a0da1049     301682320           2   \n",
       "1  8a2a81a74ce8c05d014cfb32a0da1049     301883808           9   \n",
       "2  8a2a81a74ce8c05d014cfb32a0da1049     301831714           8   \n",
       "3  8a8588f35438fe12015444567666018e     301861541           5   \n",
       "4  8a85890754145ace015429211b513e16     301941754           2   \n",
       "\n",
       "         approveddate        creationdate  loanamount  totaldue  termdays  \\\n",
       "0 2016-08-15 18:22:40 2016-08-15 17:22:32     10000.0   13000.0        30   \n",
       "1 2017-04-28 18:39:07 2017-04-28 17:38:53     10000.0   13000.0        30   \n",
       "2 2017-03-05 10:56:25 2017-03-05 09:56:19     20000.0   23800.0        30   \n",
       "3 2017-04-09 18:25:55 2017-04-09 17:25:42     10000.0   11500.0        15   \n",
       "4 2017-06-17 09:29:57 2017-06-17 08:29:50     10000.0   11500.0        15   \n",
       "\n",
       "           closeddate referredby firstduedate     firstrepaiddate  \n",
       "0 2016-09-01 16:06:48        NaN   2016-09-14 2016-09-01 15:51:43  \n",
       "1 2017-05-28 14:44:49        NaN   2017-05-30 2017-05-26 00:00:00  \n",
       "2 2017-04-26 22:18:56        NaN   2017-04-04 2017-04-26 22:03:47  \n",
       "3 2017-04-24 01:35:52        NaN   2017-04-24 2017-04-24 00:48:43  \n",
       "4 2017-07-14 21:18:43        NaN   2017-07-03 2017-07-14 21:08:35  "
      ]
     },
     "execution_count": 8,
     "metadata": {},
     "output_type": "execute_result"
    }
   ],
   "source": [
    "trainprevloans.head()"
   ]
  },
  {
   "cell_type": "code",
   "execution_count": 9,
   "metadata": {
    "_uuid": "5249bb526b9d4aa19d982f987aa121dff4ef61f4"
   },
   "outputs": [
    {
     "data": {
      "text/html": [
       "<div>\n",
       "<style scoped>\n",
       "    .dataframe tbody tr th:only-of-type {\n",
       "        vertical-align: middle;\n",
       "    }\n",
       "\n",
       "    .dataframe tbody tr th {\n",
       "        vertical-align: top;\n",
       "    }\n",
       "\n",
       "    .dataframe thead th {\n",
       "        text-align: right;\n",
       "    }\n",
       "</style>\n",
       "<table border=\"1\" class=\"dataframe\">\n",
       "  <thead>\n",
       "    <tr style=\"text-align: right;\">\n",
       "      <th></th>\n",
       "      <th>customerid</th>\n",
       "      <th>systemloanid</th>\n",
       "      <th>loannumber</th>\n",
       "      <th>approveddate</th>\n",
       "      <th>creationdate</th>\n",
       "      <th>loanamount</th>\n",
       "      <th>totaldue</th>\n",
       "      <th>termdays</th>\n",
       "      <th>closeddate</th>\n",
       "      <th>referredby</th>\n",
       "      <th>firstduedate</th>\n",
       "      <th>firstrepaiddate</th>\n",
       "    </tr>\n",
       "  </thead>\n",
       "  <tbody>\n",
       "    <tr>\n",
       "      <th>0</th>\n",
       "      <td>8a858899538ddb8e015390510b321f08</td>\n",
       "      <td>301621635</td>\n",
       "      <td>3</td>\n",
       "      <td>2016-05-17 10:37:00</td>\n",
       "      <td>2016-05-17 09:36:55</td>\n",
       "      <td>10000.0</td>\n",
       "      <td>13000.0</td>\n",
       "      <td>30</td>\n",
       "      <td>2016-06-17 00:04:15</td>\n",
       "      <td>NaN</td>\n",
       "      <td>2016-06-16</td>\n",
       "      <td>2016-06-16 15:44:08</td>\n",
       "    </tr>\n",
       "    <tr>\n",
       "      <th>1</th>\n",
       "      <td>8a858959537a097401537a4e316e25f7</td>\n",
       "      <td>301810201</td>\n",
       "      <td>5</td>\n",
       "      <td>2017-02-04 21:28:59</td>\n",
       "      <td>2017-02-04 20:28:52</td>\n",
       "      <td>30000.0</td>\n",
       "      <td>36800.0</td>\n",
       "      <td>60</td>\n",
       "      <td>2017-03-02 16:22:58</td>\n",
       "      <td>NaN</td>\n",
       "      <td>2017-03-06</td>\n",
       "      <td>2017-03-02 16:07:47</td>\n",
       "    </tr>\n",
       "    <tr>\n",
       "      <th>2</th>\n",
       "      <td>8a858959537a097401537a4e316e25f7</td>\n",
       "      <td>301831255</td>\n",
       "      <td>6</td>\n",
       "      <td>2017-03-04 10:28:22</td>\n",
       "      <td>2017-03-04 09:28:16</td>\n",
       "      <td>30000.0</td>\n",
       "      <td>34400.0</td>\n",
       "      <td>30</td>\n",
       "      <td>2017-04-02 00:44:24</td>\n",
       "      <td>NaN</td>\n",
       "      <td>2017-04-03</td>\n",
       "      <td>2017-04-01 21:29:46</td>\n",
       "    </tr>\n",
       "    <tr>\n",
       "      <th>3</th>\n",
       "      <td>8a8589c253ace09b0153af6ba58f1f31</td>\n",
       "      <td>301627292</td>\n",
       "      <td>3</td>\n",
       "      <td>2016-06-02 14:27:14</td>\n",
       "      <td>2016-06-02 13:27:08</td>\n",
       "      <td>10000.0</td>\n",
       "      <td>13000.0</td>\n",
       "      <td>30</td>\n",
       "      <td>2016-07-04 11:34:04</td>\n",
       "      <td>NaN</td>\n",
       "      <td>2016-07-04</td>\n",
       "      <td>2016-07-04 11:19:01</td>\n",
       "    </tr>\n",
       "    <tr>\n",
       "      <th>4</th>\n",
       "      <td>8a8589c253ace09b0153af6ba58f1f31</td>\n",
       "      <td>301621095</td>\n",
       "      <td>2</td>\n",
       "      <td>2016-05-16 09:13:12</td>\n",
       "      <td>2016-05-16 08:13:04</td>\n",
       "      <td>10000.0</td>\n",
       "      <td>11500.0</td>\n",
       "      <td>15</td>\n",
       "      <td>2016-06-02 00:02:58</td>\n",
       "      <td>NaN</td>\n",
       "      <td>2016-05-31</td>\n",
       "      <td>2016-06-01 15:22:34</td>\n",
       "    </tr>\n",
       "  </tbody>\n",
       "</table>\n",
       "</div>"
      ],
      "text/plain": [
       "                         customerid  systemloanid  loannumber  \\\n",
       "0  8a858899538ddb8e015390510b321f08     301621635           3   \n",
       "1  8a858959537a097401537a4e316e25f7     301810201           5   \n",
       "2  8a858959537a097401537a4e316e25f7     301831255           6   \n",
       "3  8a8589c253ace09b0153af6ba58f1f31     301627292           3   \n",
       "4  8a8589c253ace09b0153af6ba58f1f31     301621095           2   \n",
       "\n",
       "         approveddate        creationdate  loanamount  totaldue  termdays  \\\n",
       "0 2016-05-17 10:37:00 2016-05-17 09:36:55     10000.0   13000.0        30   \n",
       "1 2017-02-04 21:28:59 2017-02-04 20:28:52     30000.0   36800.0        60   \n",
       "2 2017-03-04 10:28:22 2017-03-04 09:28:16     30000.0   34400.0        30   \n",
       "3 2016-06-02 14:27:14 2016-06-02 13:27:08     10000.0   13000.0        30   \n",
       "4 2016-05-16 09:13:12 2016-05-16 08:13:04     10000.0   11500.0        15   \n",
       "\n",
       "           closeddate referredby firstduedate     firstrepaiddate  \n",
       "0 2016-06-17 00:04:15        NaN   2016-06-16 2016-06-16 15:44:08  \n",
       "1 2017-03-02 16:22:58        NaN   2017-03-06 2017-03-02 16:07:47  \n",
       "2 2017-04-02 00:44:24        NaN   2017-04-03 2017-04-01 21:29:46  \n",
       "3 2016-07-04 11:34:04        NaN   2016-07-04 2016-07-04 11:19:01  \n",
       "4 2016-06-02 00:02:58        NaN   2016-05-31 2016-06-01 15:22:34  "
      ]
     },
     "execution_count": 9,
     "metadata": {},
     "output_type": "execute_result"
    }
   ],
   "source": [
    "testprevloans.head()"
   ]
  },
  {
   "cell_type": "markdown",
   "metadata": {
    "_uuid": "29b156fa923163f5ad8d7fbc90dcebf11fb1d89b"
   },
   "source": [
    "Let's explore our data and create a base line model.\n",
    "We'll start with the main train data **trainperf** do some feature engineering and make a prediction."
   ]
  },
  {
   "cell_type": "code",
   "execution_count": 10,
   "metadata": {
    "_uuid": "4bc76a5f07c1e71fd4835b5e499f2a7f0ff679e0"
   },
   "outputs": [
    {
     "data": {
      "text/html": [
       "<div>\n",
       "<style scoped>\n",
       "    .dataframe tbody tr th:only-of-type {\n",
       "        vertical-align: middle;\n",
       "    }\n",
       "\n",
       "    .dataframe tbody tr th {\n",
       "        vertical-align: top;\n",
       "    }\n",
       "\n",
       "    .dataframe thead th {\n",
       "        text-align: right;\n",
       "    }\n",
       "</style>\n",
       "<table border=\"1\" class=\"dataframe\">\n",
       "  <thead>\n",
       "    <tr style=\"text-align: right;\">\n",
       "      <th></th>\n",
       "      <th>systemloanid</th>\n",
       "      <th>loannumber</th>\n",
       "      <th>loanamount</th>\n",
       "      <th>totaldue</th>\n",
       "      <th>termdays</th>\n",
       "    </tr>\n",
       "  </thead>\n",
       "  <tbody>\n",
       "    <tr>\n",
       "      <th>count</th>\n",
       "      <td>4.368000e+03</td>\n",
       "      <td>4368.000000</td>\n",
       "      <td>4368.000000</td>\n",
       "      <td>4368.000000</td>\n",
       "      <td>4368.000000</td>\n",
       "    </tr>\n",
       "    <tr>\n",
       "      <th>mean</th>\n",
       "      <td>3.019810e+08</td>\n",
       "      <td>5.172390</td>\n",
       "      <td>17809.065934</td>\n",
       "      <td>21257.377679</td>\n",
       "      <td>29.261676</td>\n",
       "    </tr>\n",
       "    <tr>\n",
       "      <th>std</th>\n",
       "      <td>1.343115e+04</td>\n",
       "      <td>3.653569</td>\n",
       "      <td>10749.694571</td>\n",
       "      <td>11943.510416</td>\n",
       "      <td>11.512519</td>\n",
       "    </tr>\n",
       "    <tr>\n",
       "      <th>min</th>\n",
       "      <td>3.019585e+08</td>\n",
       "      <td>2.000000</td>\n",
       "      <td>10000.000000</td>\n",
       "      <td>10000.000000</td>\n",
       "      <td>15.000000</td>\n",
       "    </tr>\n",
       "    <tr>\n",
       "      <th>25%</th>\n",
       "      <td>3.019691e+08</td>\n",
       "      <td>2.000000</td>\n",
       "      <td>10000.000000</td>\n",
       "      <td>13000.000000</td>\n",
       "      <td>30.000000</td>\n",
       "    </tr>\n",
       "    <tr>\n",
       "      <th>50%</th>\n",
       "      <td>3.019801e+08</td>\n",
       "      <td>4.000000</td>\n",
       "      <td>10000.000000</td>\n",
       "      <td>13000.000000</td>\n",
       "      <td>30.000000</td>\n",
       "    </tr>\n",
       "    <tr>\n",
       "      <th>75%</th>\n",
       "      <td>3.019935e+08</td>\n",
       "      <td>7.000000</td>\n",
       "      <td>20000.000000</td>\n",
       "      <td>24500.000000</td>\n",
       "      <td>30.000000</td>\n",
       "    </tr>\n",
       "    <tr>\n",
       "      <th>max</th>\n",
       "      <td>3.020040e+08</td>\n",
       "      <td>27.000000</td>\n",
       "      <td>60000.000000</td>\n",
       "      <td>68100.000000</td>\n",
       "      <td>90.000000</td>\n",
       "    </tr>\n",
       "  </tbody>\n",
       "</table>\n",
       "</div>"
      ],
      "text/plain": [
       "       systemloanid   loannumber    loanamount      totaldue     termdays\n",
       "count  4.368000e+03  4368.000000   4368.000000   4368.000000  4368.000000\n",
       "mean   3.019810e+08     5.172390  17809.065934  21257.377679    29.261676\n",
       "std    1.343115e+04     3.653569  10749.694571  11943.510416    11.512519\n",
       "min    3.019585e+08     2.000000  10000.000000  10000.000000    15.000000\n",
       "25%    3.019691e+08     2.000000  10000.000000  13000.000000    30.000000\n",
       "50%    3.019801e+08     4.000000  10000.000000  13000.000000    30.000000\n",
       "75%    3.019935e+08     7.000000  20000.000000  24500.000000    30.000000\n",
       "max    3.020040e+08    27.000000  60000.000000  68100.000000    90.000000"
      ]
     },
     "execution_count": 10,
     "metadata": {},
     "output_type": "execute_result"
    }
   ],
   "source": [
    "trainperf.describe()"
   ]
  },
  {
   "cell_type": "code",
   "execution_count": 11,
   "metadata": {
    "_uuid": "9a13625bb44229b54e352a20321c3776781c40b3"
   },
   "outputs": [],
   "source": [
    "def process_perf_data(df, dataset='train', to_categorical=True):\n",
    "    #drop systemloanid and loannumber\n",
    "    proc_df = df.copy()\n",
    "    #get the interest to be paid on the loan\n",
    "    proc_df['interest'] = proc_df['totaldue'] - proc_df['loanamount']\n",
    "    \n",
    "    # Convert days to year by dividing with 365)\n",
    "    proc_df['termyears'] = proc_df['termdays'] / 365\n",
    "    #Drop original days column\n",
    "    proc_df.drop(['termdays'], axis=1, inplace=True)\n",
    "    #get the rate of interest R = I/P*T \n",
    "    proc_df['rateofinterest'] = proc_df['interest'] / (proc_df['loanamount'] * proc_df['termyears'])\n",
    "    \n",
    "    #Convert referredby to a boolean column of yes and no\n",
    "    #First, get the null values index\n",
    "    indx_null = proc_df[proc_df['referredby'].isnull()].index\n",
    "    # Get the index of not null values\n",
    "    indx_not_null = proc_df[~proc_df['referredby'].isnull()].index\n",
    "    proc_df['referredbysomeone'] = proc_df['referredby']\n",
    "    proc_df['referredbysomeone'][indx_null] = False\n",
    "    proc_df['referredbysomeone'][indx_not_null] = True\n",
    "    #Drop referredby column\n",
    "    proc_df.drop(['referredby'], axis=1, inplace=True)\n",
    "    \n",
    "    #Get some information from approveddate and creationdate columns\n",
    "    #First create dictionary keys for dayofweek and month of year\n",
    "    dic_dayofweek = {0:'mon',1:'tue',2:'wed',3:'thur',4:'fri',5:'sat',6:'sun'}\n",
    "    dic_month = {1:'jan', 2:'feb',3:'mar',4:'apr',5:'may',6:'jun',7:'jul',8:'aug', 9:'sept',10:'oct',11:'nov',12:'dec'}\n",
    "    \n",
    "#     #Convert to categorical if processing trainperf\n",
    "#     if to_categorical:\n",
    "#         proc_df['approveddayofweek'] = proc_df['approveddate'].dt.dayofweek.map(dic_dayofweek)\n",
    "#         proc_df['approvedmonth'] = proc_df['approveddate'].dt.month.map(dic_month)\n",
    "#         proc_df['creationdayofweek'] = proc_df['creationdate'].dt.dayofweek.map(dic_dayofweek)\n",
    "#         proc_df['creationmonth'] = proc_df['creationdate'].dt.month.map(dic_month)\n",
    "#     else:\n",
    "#         #Working on previous loans where the numbers are important\n",
    "#         proc_df['total_loan_duration'] = proc_df['closeddate'] - proc_df['creationdate']\n",
    "#         proc_df['total_loan_duration'] = proc_df['total_loan_duration'].dt.seconds\n",
    "        \n",
    "#         proc_df['approveddayofweek'] = proc_df['approveddate'].dt.dayofweek\n",
    "#         proc_df['approvedmonth'] = proc_df['approveddate'].dt.month\n",
    "#         proc_df['creationdayofweek'] = proc_df['creationdate'].dt.dayofweek\n",
    "#         proc_df['creationmonth'] = proc_df['creationdate'].dt.month\n",
    "        \n",
    "#     proc_df['is_month_start_approved'] = proc_df['approveddate'].dt.is_month_start\n",
    "#     proc_df['is_month_end_approved'] = proc_df['approveddate'].dt.is_month_end\n",
    "#     proc_df['is_month_start_creation'] = proc_df['creationdate'].dt.is_month_start\n",
    "#     proc_df['is_month_end_creation'] = proc_df['creationdate'].dt.is_month_end\n",
    "    \n",
    "#     #Get the approval time elapsed in seconds\n",
    "#     proc_df['loan_approval_time_elapsed'] = proc_df['approveddate'] - proc_df['creationdate']\n",
    "#     proc_df['loan_approval_time_elapsed'] = proc_df['loan_approval_time_elapsed'].dt.seconds\n",
    "    \n",
    "    #Drop the date columns\n",
    "    proc_df.drop(['creationdate','approveddate'], axis=1, inplace=True)\n",
    "    \n",
    "    if dataset == 'train':\n",
    "        #Convert the target column to boolean values: 0 ===> Good, 1 ==>Bad\n",
    "        dict_target = {\"Good\": 1, \"Bad\": 0}\n",
    "        target = proc_df['good_bad_flag'].map(dict_target)\n",
    "        proc_df.drop(['good_bad_flag'], axis=1, inplace=True)\n",
    "        return (proc_df, target)\n",
    "    else:\n",
    "        return proc_df\n",
    "\n",
    "    \n"
   ]
  },
  {
   "cell_type": "code",
   "execution_count": 12,
   "metadata": {
    "_uuid": "3798fd7f876da111336c8153deeb7dfc14f86341"
   },
   "outputs": [
    {
     "data": {
      "text/html": [
       "<div>\n",
       "<style scoped>\n",
       "    .dataframe tbody tr th:only-of-type {\n",
       "        vertical-align: middle;\n",
       "    }\n",
       "\n",
       "    .dataframe tbody tr th {\n",
       "        vertical-align: top;\n",
       "    }\n",
       "\n",
       "    .dataframe thead th {\n",
       "        text-align: right;\n",
       "    }\n",
       "</style>\n",
       "<table border=\"1\" class=\"dataframe\">\n",
       "  <thead>\n",
       "    <tr style=\"text-align: right;\">\n",
       "      <th></th>\n",
       "      <th>customerid</th>\n",
       "      <th>systemloanid</th>\n",
       "      <th>loannumber</th>\n",
       "      <th>loanamount</th>\n",
       "      <th>totaldue</th>\n",
       "      <th>interest</th>\n",
       "      <th>termyears</th>\n",
       "      <th>rateofinterest</th>\n",
       "      <th>referredbysomeone</th>\n",
       "    </tr>\n",
       "  </thead>\n",
       "  <tbody>\n",
       "    <tr>\n",
       "      <th>0</th>\n",
       "      <td>8a2a81a74ce8c05d014cfb32a0da1049</td>\n",
       "      <td>301994762</td>\n",
       "      <td>12</td>\n",
       "      <td>30000.0</td>\n",
       "      <td>34500.0</td>\n",
       "      <td>4500.0</td>\n",
       "      <td>0.082192</td>\n",
       "      <td>1.825000</td>\n",
       "      <td>False</td>\n",
       "    </tr>\n",
       "    <tr>\n",
       "      <th>1</th>\n",
       "      <td>8a85886e54beabf90154c0a29ae757c0</td>\n",
       "      <td>301965204</td>\n",
       "      <td>2</td>\n",
       "      <td>15000.0</td>\n",
       "      <td>17250.0</td>\n",
       "      <td>2250.0</td>\n",
       "      <td>0.082192</td>\n",
       "      <td>1.825000</td>\n",
       "      <td>False</td>\n",
       "    </tr>\n",
       "    <tr>\n",
       "      <th>2</th>\n",
       "      <td>8a8588f35438fe12015444567666018e</td>\n",
       "      <td>301966580</td>\n",
       "      <td>7</td>\n",
       "      <td>20000.0</td>\n",
       "      <td>22250.0</td>\n",
       "      <td>2250.0</td>\n",
       "      <td>0.041096</td>\n",
       "      <td>2.737500</td>\n",
       "      <td>False</td>\n",
       "    </tr>\n",
       "    <tr>\n",
       "      <th>3</th>\n",
       "      <td>8a85890754145ace015429211b513e16</td>\n",
       "      <td>301999343</td>\n",
       "      <td>3</td>\n",
       "      <td>10000.0</td>\n",
       "      <td>11500.0</td>\n",
       "      <td>1500.0</td>\n",
       "      <td>0.041096</td>\n",
       "      <td>3.650000</td>\n",
       "      <td>False</td>\n",
       "    </tr>\n",
       "    <tr>\n",
       "      <th>4</th>\n",
       "      <td>8a858970548359cc0154883481981866</td>\n",
       "      <td>301962360</td>\n",
       "      <td>9</td>\n",
       "      <td>40000.0</td>\n",
       "      <td>44000.0</td>\n",
       "      <td>4000.0</td>\n",
       "      <td>0.082192</td>\n",
       "      <td>1.216667</td>\n",
       "      <td>False</td>\n",
       "    </tr>\n",
       "  </tbody>\n",
       "</table>\n",
       "</div>"
      ],
      "text/plain": [
       "                         customerid  systemloanid  loannumber  loanamount  \\\n",
       "0  8a2a81a74ce8c05d014cfb32a0da1049     301994762          12     30000.0   \n",
       "1  8a85886e54beabf90154c0a29ae757c0     301965204           2     15000.0   \n",
       "2  8a8588f35438fe12015444567666018e     301966580           7     20000.0   \n",
       "3  8a85890754145ace015429211b513e16     301999343           3     10000.0   \n",
       "4  8a858970548359cc0154883481981866     301962360           9     40000.0   \n",
       "\n",
       "   totaldue  interest  termyears  rateofinterest  referredbysomeone  \n",
       "0   34500.0    4500.0   0.082192        1.825000              False  \n",
       "1   17250.0    2250.0   0.082192        1.825000              False  \n",
       "2   22250.0    2250.0   0.041096        2.737500              False  \n",
       "3   11500.0    1500.0   0.041096        3.650000              False  \n",
       "4   44000.0    4000.0   0.082192        1.216667              False  "
      ]
     },
     "execution_count": 12,
     "metadata": {},
     "output_type": "execute_result"
    }
   ],
   "source": [
    "new_trainperf,target = process_perf_data(trainperf)\n",
    "new_testperf = process_perf_data(testperf, dataset='test')\n",
    "new_trainperf.head()"
   ]
  },
  {
   "cell_type": "code",
   "execution_count": 13,
   "metadata": {
    "_uuid": "9afa263a6db7a6347f298a23f9aa4c2bd534e8e7"
   },
   "outputs": [
    {
     "data": {
      "text/html": [
       "<div>\n",
       "<style scoped>\n",
       "    .dataframe tbody tr th:only-of-type {\n",
       "        vertical-align: middle;\n",
       "    }\n",
       "\n",
       "    .dataframe tbody tr th {\n",
       "        vertical-align: top;\n",
       "    }\n",
       "\n",
       "    .dataframe thead th {\n",
       "        text-align: right;\n",
       "    }\n",
       "</style>\n",
       "<table border=\"1\" class=\"dataframe\">\n",
       "  <thead>\n",
       "    <tr style=\"text-align: right;\">\n",
       "      <th></th>\n",
       "      <th>customerid</th>\n",
       "      <th>systemloanid</th>\n",
       "      <th>loannumber</th>\n",
       "      <th>loanamount</th>\n",
       "      <th>totaldue</th>\n",
       "      <th>interest</th>\n",
       "      <th>termyears</th>\n",
       "      <th>rateofinterest</th>\n",
       "      <th>referredbysomeone</th>\n",
       "    </tr>\n",
       "  </thead>\n",
       "  <tbody>\n",
       "    <tr>\n",
       "      <th>0</th>\n",
       "      <td>8a858899538ddb8e015390510b321f08</td>\n",
       "      <td>301998974</td>\n",
       "      <td>4</td>\n",
       "      <td>10000</td>\n",
       "      <td>12250.0</td>\n",
       "      <td>2250.0</td>\n",
       "      <td>0.082192</td>\n",
       "      <td>2.737500</td>\n",
       "      <td>False</td>\n",
       "    </tr>\n",
       "    <tr>\n",
       "      <th>1</th>\n",
       "      <td>8a858959537a097401537a4e316e25f7</td>\n",
       "      <td>301963615</td>\n",
       "      <td>10</td>\n",
       "      <td>40000</td>\n",
       "      <td>44000.0</td>\n",
       "      <td>4000.0</td>\n",
       "      <td>0.082192</td>\n",
       "      <td>1.216667</td>\n",
       "      <td>False</td>\n",
       "    </tr>\n",
       "    <tr>\n",
       "      <th>2</th>\n",
       "      <td>8a8589c253ace09b0153af6ba58f1f31</td>\n",
       "      <td>301982236</td>\n",
       "      <td>6</td>\n",
       "      <td>20000</td>\n",
       "      <td>24500.0</td>\n",
       "      <td>4500.0</td>\n",
       "      <td>0.082192</td>\n",
       "      <td>2.737500</td>\n",
       "      <td>False</td>\n",
       "    </tr>\n",
       "    <tr>\n",
       "      <th>3</th>\n",
       "      <td>8a858e095aae82b7015aae86ca1e030b</td>\n",
       "      <td>301971730</td>\n",
       "      <td>8</td>\n",
       "      <td>30000</td>\n",
       "      <td>34500.0</td>\n",
       "      <td>4500.0</td>\n",
       "      <td>0.082192</td>\n",
       "      <td>1.825000</td>\n",
       "      <td>False</td>\n",
       "    </tr>\n",
       "    <tr>\n",
       "      <th>4</th>\n",
       "      <td>8a858e225a28c713015a30db5c48383d</td>\n",
       "      <td>301959177</td>\n",
       "      <td>4</td>\n",
       "      <td>20000</td>\n",
       "      <td>24500.0</td>\n",
       "      <td>4500.0</td>\n",
       "      <td>0.082192</td>\n",
       "      <td>2.737500</td>\n",
       "      <td>False</td>\n",
       "    </tr>\n",
       "  </tbody>\n",
       "</table>\n",
       "</div>"
      ],
      "text/plain": [
       "                         customerid  systemloanid  loannumber  loanamount  \\\n",
       "0  8a858899538ddb8e015390510b321f08     301998974           4       10000   \n",
       "1  8a858959537a097401537a4e316e25f7     301963615          10       40000   \n",
       "2  8a8589c253ace09b0153af6ba58f1f31     301982236           6       20000   \n",
       "3  8a858e095aae82b7015aae86ca1e030b     301971730           8       30000   \n",
       "4  8a858e225a28c713015a30db5c48383d     301959177           4       20000   \n",
       "\n",
       "   totaldue  interest  termyears  rateofinterest  referredbysomeone  \n",
       "0   12250.0    2250.0   0.082192        2.737500              False  \n",
       "1   44000.0    4000.0   0.082192        1.216667              False  \n",
       "2   24500.0    4500.0   0.082192        2.737500              False  \n",
       "3   34500.0    4500.0   0.082192        1.825000              False  \n",
       "4   24500.0    4500.0   0.082192        2.737500              False  "
      ]
     },
     "execution_count": 13,
     "metadata": {},
     "output_type": "execute_result"
    }
   ],
   "source": [
    "new_testperf.head()"
   ]
  },
  {
   "cell_type": "code",
   "execution_count": 14,
   "metadata": {
    "_uuid": "e3f8f0997fca1dfa4dfbbf9011bca9f212298cac"
   },
   "outputs": [],
   "source": [
    "def get_percent_of_missing(df):\n",
    "    missing = (df.isnull().sum() / len(df)) * 100\n",
    "    missing = missing.drop(missing[missing == 0].index).sort_values(ascending=False)\n",
    "    missing_data = pd.DataFrame({'Missing Ratio' :missing})\n",
    "    print(missing_data)\n",
    "    return\n",
    "\n",
    "def align_dataframes(train,test):\n",
    "    # Align the training and testing data. This is done because of the onehot encoding which \n",
    "    # introduces extra columns into the train data. We keep only columns present in both dataframes\n",
    "    train, test = train.align(test, join = 'inner', axis = 1)\n",
    "    return (train,test)\n"
   ]
  },
  {
   "cell_type": "code",
   "execution_count": 15,
   "metadata": {
    "_uuid": "c59f46f53984acdc5db6789e399ca9efa80ce489"
   },
   "outputs": [
    {
     "name": "stdout",
     "output_type": "stream",
     "text": [
      "Empty DataFrame\n",
      "Columns: [Missing Ratio]\n",
      "Index: []\n"
     ]
    }
   ],
   "source": [
    "get_percent_of_missing(new_trainperf)"
   ]
  },
  {
   "cell_type": "code",
   "execution_count": 16,
   "metadata": {
    "_uuid": "c08968103c6f0962b71fd77aefc1daa3219d72cf"
   },
   "outputs": [
    {
     "name": "stdout",
     "output_type": "stream",
     "text": [
      "Empty DataFrame\n",
      "Columns: [Missing Ratio]\n",
      "Index: []\n"
     ]
    }
   ],
   "source": [
    "get_percent_of_missing(new_testperf)"
   ]
  },
  {
   "cell_type": "code",
   "execution_count": 17,
   "metadata": {
    "_uuid": "f40dac2614410839ec8b0b31eade784f59c825bf"
   },
   "outputs": [],
   "source": [
    "# #Correlation map to see how features are correlated with SalePrice\n",
    "# corrmat = new_trainperf.corr()\n",
    "# plt.subplots(figsize=(10,8))\n",
    "# sns.heatmap(corrmat, vmax=0.9, square=True)"
   ]
  },
  {
   "cell_type": "code",
   "execution_count": 18,
   "metadata": {
    "_uuid": "872b34d5765bce98dc72845627d9ea17f8b2ae24"
   },
   "outputs": [],
   "source": [
    "#Drop the ID columns\n",
    "new_trainperf.drop(['systemloanid'], axis=1, inplace=True)\n",
    "new_testperf.drop(['systemloanid'], axis=1, inplace=True)\n",
    "\n",
    "# X = pd.get_dummies(new_trainperf.drop(['customerid'], axis=1, inplace=False))\n",
    "# print('New shape of trainperf is', X.shape)"
   ]
  },
  {
   "cell_type": "code",
   "execution_count": 19,
   "metadata": {
    "_uuid": "e8aadc669852dcbcc9f4915e5472400c0b50af98"
   },
   "outputs": [
    {
     "data": {
      "text/plain": [
       "<matplotlib.axes._subplots.AxesSubplot at 0x20657a1eeb8>"
      ]
     },
     "execution_count": 19,
     "metadata": {},
     "output_type": "execute_result"
    },
    {
     "data": {
      "image/png": "[encoded data removed]",
      "text/plain": [
       "<Figure size 432x288 with 1 Axes>"
      ]
     },
     "metadata": {
      "needs_background": "light"
     },
     "output_type": "display_data"
    }
   ],
   "source": [
    "#Let's look the target variable\n",
    "target.astype(int).plot.hist()\n",
    "#We can see that we have an inbalance class problem"
   ]
  },
  {
   "cell_type": "markdown",
   "metadata": {
    "_uuid": "0dca5b4eee1729afbed25dab54253642edded716"
   },
   "source": [
    "Now, Let's look at the other data, starting with the previous loan data set"
   ]
  },
  {
   "cell_type": "code",
   "execution_count": 20,
   "metadata": {
    "_uuid": "90a003169f7476909b0db8b188459e6831abbd1f"
   },
   "outputs": [
    {
     "data": {
      "text/html": [
       "<div>\n",
       "<style scoped>\n",
       "    .dataframe tbody tr th:only-of-type {\n",
       "        vertical-align: middle;\n",
       "    }\n",
       "\n",
       "    .dataframe tbody tr th {\n",
       "        vertical-align: top;\n",
       "    }\n",
       "\n",
       "    .dataframe thead th {\n",
       "        text-align: right;\n",
       "    }\n",
       "</style>\n",
       "<table border=\"1\" class=\"dataframe\">\n",
       "  <thead>\n",
       "    <tr style=\"text-align: right;\">\n",
       "      <th></th>\n",
       "      <th>customerid</th>\n",
       "      <th>systemloanid</th>\n",
       "      <th>loannumber</th>\n",
       "      <th>approveddate</th>\n",
       "      <th>creationdate</th>\n",
       "      <th>loanamount</th>\n",
       "      <th>totaldue</th>\n",
       "      <th>termdays</th>\n",
       "      <th>closeddate</th>\n",
       "      <th>referredby</th>\n",
       "      <th>firstduedate</th>\n",
       "      <th>firstrepaiddate</th>\n",
       "    </tr>\n",
       "  </thead>\n",
       "  <tbody>\n",
       "    <tr>\n",
       "      <th>0</th>\n",
       "      <td>8a2a81a74ce8c05d014cfb32a0da1049</td>\n",
       "      <td>301682320</td>\n",
       "      <td>2</td>\n",
       "      <td>2016-08-15 18:22:40</td>\n",
       "      <td>2016-08-15 17:22:32</td>\n",
       "      <td>10000.0</td>\n",
       "      <td>13000.0</td>\n",
       "      <td>30</td>\n",
       "      <td>2016-09-01 16:06:48</td>\n",
       "      <td>NaN</td>\n",
       "      <td>2016-09-14</td>\n",
       "      <td>2016-09-01 15:51:43</td>\n",
       "    </tr>\n",
       "    <tr>\n",
       "      <th>1</th>\n",
       "      <td>8a2a81a74ce8c05d014cfb32a0da1049</td>\n",
       "      <td>301883808</td>\n",
       "      <td>9</td>\n",
       "      <td>2017-04-28 18:39:07</td>\n",
       "      <td>2017-04-28 17:38:53</td>\n",
       "      <td>10000.0</td>\n",
       "      <td>13000.0</td>\n",
       "      <td>30</td>\n",
       "      <td>2017-05-28 14:44:49</td>\n",
       "      <td>NaN</td>\n",
       "      <td>2017-05-30</td>\n",
       "      <td>2017-05-26 00:00:00</td>\n",
       "    </tr>\n",
       "    <tr>\n",
       "      <th>2</th>\n",
       "      <td>8a2a81a74ce8c05d014cfb32a0da1049</td>\n",
       "      <td>301831714</td>\n",
       "      <td>8</td>\n",
       "      <td>2017-03-05 10:56:25</td>\n",
       "      <td>2017-03-05 09:56:19</td>\n",
       "      <td>20000.0</td>\n",
       "      <td>23800.0</td>\n",
       "      <td>30</td>\n",
       "      <td>2017-04-26 22:18:56</td>\n",
       "      <td>NaN</td>\n",
       "      <td>2017-04-04</td>\n",
       "      <td>2017-04-26 22:03:47</td>\n",
       "    </tr>\n",
       "    <tr>\n",
       "      <th>3</th>\n",
       "      <td>8a8588f35438fe12015444567666018e</td>\n",
       "      <td>301861541</td>\n",
       "      <td>5</td>\n",
       "      <td>2017-04-09 18:25:55</td>\n",
       "      <td>2017-04-09 17:25:42</td>\n",
       "      <td>10000.0</td>\n",
       "      <td>11500.0</td>\n",
       "      <td>15</td>\n",
       "      <td>2017-04-24 01:35:52</td>\n",
       "      <td>NaN</td>\n",
       "      <td>2017-04-24</td>\n",
       "      <td>2017-04-24 00:48:43</td>\n",
       "    </tr>\n",
       "    <tr>\n",
       "      <th>4</th>\n",
       "      <td>8a85890754145ace015429211b513e16</td>\n",
       "      <td>301941754</td>\n",
       "      <td>2</td>\n",
       "      <td>2017-06-17 09:29:57</td>\n",
       "      <td>2017-06-17 08:29:50</td>\n",
       "      <td>10000.0</td>\n",
       "      <td>11500.0</td>\n",
       "      <td>15</td>\n",
       "      <td>2017-07-14 21:18:43</td>\n",
       "      <td>NaN</td>\n",
       "      <td>2017-07-03</td>\n",
       "      <td>2017-07-14 21:08:35</td>\n",
       "    </tr>\n",
       "  </tbody>\n",
       "</table>\n",
       "</div>"
      ],
      "text/plain": [
       "                         customerid  systemloanid  loannumber  \\\n",
       "0  8a2a81a74ce8c05d014cfb32a0da1049     301682320           2   \n",
       "1  8a2a81a74ce8c05d014cfb32a0da1049     301883808           9   \n",
       "2  8a2a81a74ce8c05d014cfb32a0da1049     301831714           8   \n",
       "3  8a8588f35438fe12015444567666018e     301861541           5   \n",
       "4  8a85890754145ace015429211b513e16     301941754           2   \n",
       "\n",
       "         approveddate        creationdate  loanamount  totaldue  termdays  \\\n",
       "0 2016-08-15 18:22:40 2016-08-15 17:22:32     10000.0   13000.0        30   \n",
       "1 2017-04-28 18:39:07 2017-04-28 17:38:53     10000.0   13000.0        30   \n",
       "2 2017-03-05 10:56:25 2017-03-05 09:56:19     20000.0   23800.0        30   \n",
       "3 2017-04-09 18:25:55 2017-04-09 17:25:42     10000.0   11500.0        15   \n",
       "4 2017-06-17 09:29:57 2017-06-17 08:29:50     10000.0   11500.0        15   \n",
       "\n",
       "           closeddate referredby firstduedate     firstrepaiddate  \n",
       "0 2016-09-01 16:06:48        NaN   2016-09-14 2016-09-01 15:51:43  \n",
       "1 2017-05-28 14:44:49        NaN   2017-05-30 2017-05-26 00:00:00  \n",
       "2 2017-04-26 22:18:56        NaN   2017-04-04 2017-04-26 22:03:47  \n",
       "3 2017-04-24 01:35:52        NaN   2017-04-24 2017-04-24 00:48:43  \n",
       "4 2017-07-14 21:18:43        NaN   2017-07-03 2017-07-14 21:08:35  "
      ]
     },
     "execution_count": 20,
     "metadata": {},
     "output_type": "execute_result"
    }
   ],
   "source": [
    "trainprevloans.head()"
   ]
  },
  {
   "cell_type": "markdown",
   "metadata": {
    "_uuid": "ba6667590b1ebb55fc52a37c7a88c06587a33959"
   },
   "source": [
    "**Most of the columns are similar to the train performance data. So we can use the same function as earlier**"
   ]
  },
  {
   "cell_type": "code",
   "execution_count": 21,
   "metadata": {
    "_uuid": "2eb81631c725faa4cbc41aaf5144366260b3711a"
   },
   "outputs": [
    {
     "data": {
      "text/html": [
       "<div>\n",
       "<style scoped>\n",
       "    .dataframe tbody tr th:only-of-type {\n",
       "        vertical-align: middle;\n",
       "    }\n",
       "\n",
       "    .dataframe tbody tr th {\n",
       "        vertical-align: top;\n",
       "    }\n",
       "\n",
       "    .dataframe thead th {\n",
       "        text-align: right;\n",
       "    }\n",
       "</style>\n",
       "<table border=\"1\" class=\"dataframe\">\n",
       "  <thead>\n",
       "    <tr style=\"text-align: right;\">\n",
       "      <th></th>\n",
       "      <th>customerid</th>\n",
       "      <th>systemloanid</th>\n",
       "      <th>loannumber</th>\n",
       "      <th>loanamount</th>\n",
       "      <th>totaldue</th>\n",
       "      <th>closeddate</th>\n",
       "      <th>firstduedate</th>\n",
       "      <th>firstrepaiddate</th>\n",
       "      <th>interest</th>\n",
       "      <th>termyears</th>\n",
       "      <th>rateofinterest</th>\n",
       "      <th>referredbysomeone</th>\n",
       "    </tr>\n",
       "  </thead>\n",
       "  <tbody>\n",
       "    <tr>\n",
       "      <th>0</th>\n",
       "      <td>8a2a81a74ce8c05d014cfb32a0da1049</td>\n",
       "      <td>301682320</td>\n",
       "      <td>2</td>\n",
       "      <td>10000.0</td>\n",
       "      <td>13000.0</td>\n",
       "      <td>2016-09-01 16:06:48</td>\n",
       "      <td>2016-09-14</td>\n",
       "      <td>2016-09-01 15:51:43</td>\n",
       "      <td>3000.0</td>\n",
       "      <td>0.082192</td>\n",
       "      <td>3.650000</td>\n",
       "      <td>False</td>\n",
       "    </tr>\n",
       "    <tr>\n",
       "      <th>1</th>\n",
       "      <td>8a2a81a74ce8c05d014cfb32a0da1049</td>\n",
       "      <td>301883808</td>\n",
       "      <td>9</td>\n",
       "      <td>10000.0</td>\n",
       "      <td>13000.0</td>\n",
       "      <td>2017-05-28 14:44:49</td>\n",
       "      <td>2017-05-30</td>\n",
       "      <td>2017-05-26 00:00:00</td>\n",
       "      <td>3000.0</td>\n",
       "      <td>0.082192</td>\n",
       "      <td>3.650000</td>\n",
       "      <td>False</td>\n",
       "    </tr>\n",
       "    <tr>\n",
       "      <th>2</th>\n",
       "      <td>8a2a81a74ce8c05d014cfb32a0da1049</td>\n",
       "      <td>301831714</td>\n",
       "      <td>8</td>\n",
       "      <td>20000.0</td>\n",
       "      <td>23800.0</td>\n",
       "      <td>2017-04-26 22:18:56</td>\n",
       "      <td>2017-04-04</td>\n",
       "      <td>2017-04-26 22:03:47</td>\n",
       "      <td>3800.0</td>\n",
       "      <td>0.082192</td>\n",
       "      <td>2.311667</td>\n",
       "      <td>False</td>\n",
       "    </tr>\n",
       "    <tr>\n",
       "      <th>3</th>\n",
       "      <td>8a8588f35438fe12015444567666018e</td>\n",
       "      <td>301861541</td>\n",
       "      <td>5</td>\n",
       "      <td>10000.0</td>\n",
       "      <td>11500.0</td>\n",
       "      <td>2017-04-24 01:35:52</td>\n",
       "      <td>2017-04-24</td>\n",
       "      <td>2017-04-24 00:48:43</td>\n",
       "      <td>1500.0</td>\n",
       "      <td>0.041096</td>\n",
       "      <td>3.650000</td>\n",
       "      <td>False</td>\n",
       "    </tr>\n",
       "    <tr>\n",
       "      <th>4</th>\n",
       "      <td>8a85890754145ace015429211b513e16</td>\n",
       "      <td>301941754</td>\n",
       "      <td>2</td>\n",
       "      <td>10000.0</td>\n",
       "      <td>11500.0</td>\n",
       "      <td>2017-07-14 21:18:43</td>\n",
       "      <td>2017-07-03</td>\n",
       "      <td>2017-07-14 21:08:35</td>\n",
       "      <td>1500.0</td>\n",
       "      <td>0.041096</td>\n",
       "      <td>3.650000</td>\n",
       "      <td>False</td>\n",
       "    </tr>\n",
       "  </tbody>\n",
       "</table>\n",
       "</div>"
      ],
      "text/plain": [
       "                         customerid  systemloanid  loannumber  loanamount  \\\n",
       "0  8a2a81a74ce8c05d014cfb32a0da1049     301682320           2     10000.0   \n",
       "1  8a2a81a74ce8c05d014cfb32a0da1049     301883808           9     10000.0   \n",
       "2  8a2a81a74ce8c05d014cfb32a0da1049     301831714           8     20000.0   \n",
       "3  8a8588f35438fe12015444567666018e     301861541           5     10000.0   \n",
       "4  8a85890754145ace015429211b513e16     301941754           2     10000.0   \n",
       "\n",
       "   totaldue          closeddate firstduedate     firstrepaiddate  interest  \\\n",
       "0   13000.0 2016-09-01 16:06:48   2016-09-14 2016-09-01 15:51:43    3000.0   \n",
       "1   13000.0 2017-05-28 14:44:49   2017-05-30 2017-05-26 00:00:00    3000.0   \n",
       "2   23800.0 2017-04-26 22:18:56   2017-04-04 2017-04-26 22:03:47    3800.0   \n",
       "3   11500.0 2017-04-24 01:35:52   2017-04-24 2017-04-24 00:48:43    1500.0   \n",
       "4   11500.0 2017-07-14 21:18:43   2017-07-03 2017-07-14 21:08:35    1500.0   \n",
       "\n",
       "   termyears  rateofinterest  referredbysomeone  \n",
       "0   0.082192        3.650000              False  \n",
       "1   0.082192        3.650000              False  \n",
       "2   0.082192        2.311667              False  \n",
       "3   0.041096        3.650000              False  \n",
       "4   0.041096        3.650000              False  "
      ]
     },
     "execution_count": 21,
     "metadata": {},
     "output_type": "execute_result"
    }
   ],
   "source": [
    "new_trainprev = process_perf_data(trainprevloans, dataset='none', to_categorical=False)\n",
    "new_testprev = process_perf_data(testprevloans, dataset='none', to_categorical=False)\n",
    "new_trainprev.head()"
   ]
  },
  {
   "cell_type": "code",
   "execution_count": 22,
   "metadata": {
    "_uuid": "f8517054907c2411453fa070f32c125ad313135a"
   },
   "outputs": [
    {
     "data": {
      "text/html": [
       "<div>\n",
       "<style scoped>\n",
       "    .dataframe tbody tr th:only-of-type {\n",
       "        vertical-align: middle;\n",
       "    }\n",
       "\n",
       "    .dataframe tbody tr th {\n",
       "        vertical-align: top;\n",
       "    }\n",
       "\n",
       "    .dataframe thead th {\n",
       "        text-align: right;\n",
       "    }\n",
       "</style>\n",
       "<table border=\"1\" class=\"dataframe\">\n",
       "  <thead>\n",
       "    <tr style=\"text-align: right;\">\n",
       "      <th></th>\n",
       "      <th>customerid</th>\n",
       "      <th>systemloanid</th>\n",
       "      <th>loannumber</th>\n",
       "      <th>loanamount</th>\n",
       "      <th>totaldue</th>\n",
       "      <th>closeddate</th>\n",
       "      <th>firstduedate</th>\n",
       "      <th>firstrepaiddate</th>\n",
       "      <th>interest</th>\n",
       "      <th>termyears</th>\n",
       "      <th>rateofinterest</th>\n",
       "      <th>referredbysomeone</th>\n",
       "    </tr>\n",
       "  </thead>\n",
       "  <tbody>\n",
       "    <tr>\n",
       "      <th>0</th>\n",
       "      <td>8a858899538ddb8e015390510b321f08</td>\n",
       "      <td>301621635</td>\n",
       "      <td>3</td>\n",
       "      <td>10000.0</td>\n",
       "      <td>13000.0</td>\n",
       "      <td>2016-06-17 00:04:15</td>\n",
       "      <td>2016-06-16</td>\n",
       "      <td>2016-06-16 15:44:08</td>\n",
       "      <td>3000.0</td>\n",
       "      <td>0.082192</td>\n",
       "      <td>3.650000</td>\n",
       "      <td>False</td>\n",
       "    </tr>\n",
       "    <tr>\n",
       "      <th>1</th>\n",
       "      <td>8a858959537a097401537a4e316e25f7</td>\n",
       "      <td>301810201</td>\n",
       "      <td>5</td>\n",
       "      <td>30000.0</td>\n",
       "      <td>36800.0</td>\n",
       "      <td>2017-03-02 16:22:58</td>\n",
       "      <td>2017-03-06</td>\n",
       "      <td>2017-03-02 16:07:47</td>\n",
       "      <td>6800.0</td>\n",
       "      <td>0.164384</td>\n",
       "      <td>1.378889</td>\n",
       "      <td>False</td>\n",
       "    </tr>\n",
       "    <tr>\n",
       "      <th>2</th>\n",
       "      <td>8a858959537a097401537a4e316e25f7</td>\n",
       "      <td>301831255</td>\n",
       "      <td>6</td>\n",
       "      <td>30000.0</td>\n",
       "      <td>34400.0</td>\n",
       "      <td>2017-04-02 00:44:24</td>\n",
       "      <td>2017-04-03</td>\n",
       "      <td>2017-04-01 21:29:46</td>\n",
       "      <td>4400.0</td>\n",
       "      <td>0.082192</td>\n",
       "      <td>1.784444</td>\n",
       "      <td>False</td>\n",
       "    </tr>\n",
       "    <tr>\n",
       "      <th>3</th>\n",
       "      <td>8a8589c253ace09b0153af6ba58f1f31</td>\n",
       "      <td>301627292</td>\n",
       "      <td>3</td>\n",
       "      <td>10000.0</td>\n",
       "      <td>13000.0</td>\n",
       "      <td>2016-07-04 11:34:04</td>\n",
       "      <td>2016-07-04</td>\n",
       "      <td>2016-07-04 11:19:01</td>\n",
       "      <td>3000.0</td>\n",
       "      <td>0.082192</td>\n",
       "      <td>3.650000</td>\n",
       "      <td>False</td>\n",
       "    </tr>\n",
       "    <tr>\n",
       "      <th>4</th>\n",
       "      <td>8a8589c253ace09b0153af6ba58f1f31</td>\n",
       "      <td>301621095</td>\n",
       "      <td>2</td>\n",
       "      <td>10000.0</td>\n",
       "      <td>11500.0</td>\n",
       "      <td>2016-06-02 00:02:58</td>\n",
       "      <td>2016-05-31</td>\n",
       "      <td>2016-06-01 15:22:34</td>\n",
       "      <td>1500.0</td>\n",
       "      <td>0.041096</td>\n",
       "      <td>3.650000</td>\n",
       "      <td>False</td>\n",
       "    </tr>\n",
       "  </tbody>\n",
       "</table>\n",
       "</div>"
      ],
      "text/plain": [
       "                         customerid  systemloanid  loannumber  loanamount  \\\n",
       "0  8a858899538ddb8e015390510b321f08     301621635           3     10000.0   \n",
       "1  8a858959537a097401537a4e316e25f7     301810201           5     30000.0   \n",
       "2  8a858959537a097401537a4e316e25f7     301831255           6     30000.0   \n",
       "3  8a8589c253ace09b0153af6ba58f1f31     301627292           3     10000.0   \n",
       "4  8a8589c253ace09b0153af6ba58f1f31     301621095           2     10000.0   \n",
       "\n",
       "   totaldue          closeddate firstduedate     firstrepaiddate  interest  \\\n",
       "0   13000.0 2016-06-17 00:04:15   2016-06-16 2016-06-16 15:44:08    3000.0   \n",
       "1   36800.0 2017-03-02 16:22:58   2017-03-06 2017-03-02 16:07:47    6800.0   \n",
       "2   34400.0 2017-04-02 00:44:24   2017-04-03 2017-04-01 21:29:46    4400.0   \n",
       "3   13000.0 2016-07-04 11:34:04   2016-07-04 2016-07-04 11:19:01    3000.0   \n",
       "4   11500.0 2016-06-02 00:02:58   2016-05-31 2016-06-01 15:22:34    1500.0   \n",
       "\n",
       "   termyears  rateofinterest  referredbysomeone  \n",
       "0   0.082192        3.650000              False  \n",
       "1   0.164384        1.378889              False  \n",
       "2   0.082192        1.784444              False  \n",
       "3   0.082192        3.650000              False  \n",
       "4   0.041096        3.650000              False  "
      ]
     },
     "execution_count": 22,
     "metadata": {},
     "output_type": "execute_result"
    }
   ],
   "source": [
    "new_testprev.head()"
   ]
  },
  {
   "cell_type": "markdown",
   "metadata": {
    "_uuid": "c147466839cc006f2da4ba1d61e2a463aca6a74e"
   },
   "source": [
    "**Let's create a function to clean the remaining columns**"
   ]
  },
  {
   "cell_type": "code",
   "execution_count": 23,
   "metadata": {
    "_uuid": "2faed0fac73ad76991dd0f56ba85a2daca2eec9a"
   },
   "outputs": [],
   "source": [
    "def process_prevloans(df):\n",
    "    df = df.copy()\n",
    "    df['diff_due_and_repay'] = df['firstrepaiddate'] - df['firstduedate']\n",
    "    df['diff_due_and_repay'] = df['diff_due_and_repay'].dt.seconds\n",
    "    \n",
    "    df['diff_closed_and_due'] = df['closeddate'] - df['firstduedate']\n",
    "    df['diff_closed_and_due'] = df['diff_closed_and_due'].dt.seconds\n",
    "    \n",
    "    df['due_dayofweek'] = df['firstduedate'].dt.dayofweek\n",
    "    df['due_month'] = df['firstduedate'].dt.month\n",
    "    \n",
    "    df['repaid_dayofweek'] = df['firstrepaiddate'].dt.dayofweek\n",
    "    df['repaid_month'] = df['firstrepaiddate'].dt.month\n",
    "    \n",
    "    df['is_month_start_repaid'] = df['firstrepaiddate'].dt.is_month_start\n",
    "    df['is_month_end_repaid'] = df['firstrepaiddate'].dt.is_month_end\n",
    "    \n",
    "    df['is_month_start_duedate'] = df['firstduedate'].dt.is_month_start\n",
    "    df['is_month_end_duedate'] = df['firstduedate'].dt.is_month_end\n",
    "    \n",
    "    #DRop old date columns\n",
    "    df.drop(['closeddate','firstduedate','firstrepaiddate'],axis=1,inplace=True)\n",
    "    \n",
    "    return df"
   ]
  },
  {
   "cell_type": "code",
   "execution_count": 24,
   "metadata": {
    "_uuid": "b861b6b249eb2a0aec19393ae8e28f1262992dae"
   },
   "outputs": [
    {
     "name": "stdout",
     "output_type": "stream",
     "text": [
      "Shape of new_trainprev: (18183, 19)\n",
      "Shape of new_testprev: (5907, 19)\n"
     ]
    }
   ],
   "source": [
    "new_trainprev = process_prevloans(new_trainprev)\n",
    "new_testprev = process_prevloans(new_testprev)\n",
    "print('Shape of new_trainprev:', new_trainprev.shape)\n",
    "print('Shape of new_testprev:', new_testprev.shape)"
   ]
  },
  {
   "cell_type": "code",
   "execution_count": 25,
   "metadata": {},
   "outputs": [],
   "source": [
    "# counts_df = new_trainprev.groupby('customerid', as_index=False)['systemloanid'].count()\n",
    "# new_trainperf['prev_loan_count'] = counts_df['systemloanid']\n",
    "# #DO FOR TEST"
   ]
  },
  {
   "cell_type": "code",
   "execution_count": 26,
   "metadata": {
    "_uuid": "26913d60d668d85ed0d64bfc202eddd600a81d8a"
   },
   "outputs": [],
   "source": [
    "def merge_2_df(df1,df2):\n",
    "    # Join two dataframe\n",
    "    df = df1.merge(df2, how='left',on='customerid')\n",
    "    return df"
   ]
  },
  {
   "cell_type": "code",
   "execution_count": 27,
   "metadata": {
    "_uuid": "3ffdc310474aac0d95b46dfff94bdd35272da45b"
   },
   "outputs": [],
   "source": [
    "def calculate_agg(df):\n",
    "    # Group by the customer id, calculate aggregation statistics\n",
    "    df_agg = df.drop(columns = ['systemloanid']).groupby('customerid', as_index = False).agg(['count', 'mean', 'max', 'min', 'sum']).reset_index()\n",
    "    # List to hold column names\n",
    "    columns = ['customerid']\n",
    "    # Iterate through the variables names\n",
    "    for var in df_agg.columns.levels[0]:\n",
    "        # Skip the id name\n",
    "        if var != 'customerid':      \n",
    "            # Iterate through the calculated stat names\n",
    "            for stat in df_agg.columns.levels[1][:-1]:\n",
    "                # Make a new column name for the variable and stat\n",
    "                columns.append('prevloan_%s_%s' % (var, stat))\n",
    "    \n",
    "    # Assign the list of columns names as the dataframe column names\n",
    "    df_agg.columns = columns\n",
    "    return df_agg"
   ]
  },
  {
   "cell_type": "code",
   "execution_count": 28,
   "metadata": {
    "_uuid": "3ada431ee4a6185a17906027c952048ca7f42c1a"
   },
   "outputs": [
    {
     "data": {
      "text/plain": [
       "(4368, 93)"
      ]
     },
     "execution_count": 28,
     "metadata": {},
     "output_type": "execute_result"
    }
   ],
   "source": [
    "train_2_merge = calculate_agg(new_trainprev)\n",
    "test_2_merge = calculate_agg(new_testprev)\n",
    "\n",
    "new_X = merge_2_df(new_trainperf,train_2_merge)\n",
    "test = merge_2_df(new_testperf,test_2_merge)\n",
    "\n",
    "merged_data = new_X.copy()\n",
    "new_X.shape"
   ]
  },
  {
   "cell_type": "code",
   "execution_count": 29,
   "metadata": {
    "_uuid": "c437b818d4ad918b4a606d5e15f64bcfe6b77a66"
   },
   "outputs": [
    {
     "data": {
      "text/plain": [
       "(4368, 93)"
      ]
     },
     "execution_count": 29,
     "metadata": {},
     "output_type": "execute_result"
    }
   ],
   "source": [
    "merged_data.shape"
   ]
  },
  {
   "cell_type": "markdown",
   "metadata": {
    "_uuid": "8cb94e657abdaf569c7b08a8d4c2f8ba329c8222"
   },
   "source": [
    "**Let's add the final dataset Train demographics**\n"
   ]
  },
  {
   "cell_type": "code",
   "execution_count": 30,
   "metadata": {
    "_uuid": "fac71cbea5a1a10f7be79f6e068d21a7093d144b"
   },
   "outputs": [
    {
     "data": {
      "text/html": [
       "<div>\n",
       "<style scoped>\n",
       "    .dataframe tbody tr th:only-of-type {\n",
       "        vertical-align: middle;\n",
       "    }\n",
       "\n",
       "    .dataframe tbody tr th {\n",
       "        vertical-align: top;\n",
       "    }\n",
       "\n",
       "    .dataframe thead th {\n",
       "        text-align: right;\n",
       "    }\n",
       "</style>\n",
       "<table border=\"1\" class=\"dataframe\">\n",
       "  <thead>\n",
       "    <tr style=\"text-align: right;\">\n",
       "      <th></th>\n",
       "      <th>customerid</th>\n",
       "      <th>birthdate</th>\n",
       "      <th>bank_account_type</th>\n",
       "      <th>longitude_gps</th>\n",
       "      <th>latitude_gps</th>\n",
       "      <th>bank_name_clients</th>\n",
       "      <th>bank_branch_clients</th>\n",
       "      <th>employment_status_clients</th>\n",
       "      <th>level_of_education_clients</th>\n",
       "    </tr>\n",
       "  </thead>\n",
       "  <tbody>\n",
       "    <tr>\n",
       "      <th>0</th>\n",
       "      <td>8a858e135cb22031015cbafc76964ebd</td>\n",
       "      <td>1973-10-10</td>\n",
       "      <td>Savings</td>\n",
       "      <td>3.319219</td>\n",
       "      <td>6.528604</td>\n",
       "      <td>GT Bank</td>\n",
       "      <td>NaN</td>\n",
       "      <td>NaN</td>\n",
       "      <td>NaN</td>\n",
       "    </tr>\n",
       "    <tr>\n",
       "      <th>1</th>\n",
       "      <td>8a858e275c7ea5ec015c82482d7c3996</td>\n",
       "      <td>1986-01-21</td>\n",
       "      <td>Savings</td>\n",
       "      <td>3.325598</td>\n",
       "      <td>7.119403</td>\n",
       "      <td>Sterling Bank</td>\n",
       "      <td>NaN</td>\n",
       "      <td>Permanent</td>\n",
       "      <td>NaN</td>\n",
       "    </tr>\n",
       "    <tr>\n",
       "      <th>2</th>\n",
       "      <td>8a858e5b5bd99460015bdc95cd485634</td>\n",
       "      <td>1987-04-01</td>\n",
       "      <td>Savings</td>\n",
       "      <td>5.746100</td>\n",
       "      <td>5.563174</td>\n",
       "      <td>Fidelity Bank</td>\n",
       "      <td>NaN</td>\n",
       "      <td>NaN</td>\n",
       "      <td>NaN</td>\n",
       "    </tr>\n",
       "    <tr>\n",
       "      <th>3</th>\n",
       "      <td>8a858efd5ca70688015cabd1f1e94b55</td>\n",
       "      <td>1991-07-19</td>\n",
       "      <td>Savings</td>\n",
       "      <td>3.362850</td>\n",
       "      <td>6.642485</td>\n",
       "      <td>GT Bank</td>\n",
       "      <td>NaN</td>\n",
       "      <td>Permanent</td>\n",
       "      <td>NaN</td>\n",
       "    </tr>\n",
       "    <tr>\n",
       "      <th>4</th>\n",
       "      <td>8a858e785acd3412015acd48f4920d04</td>\n",
       "      <td>1982-11-22</td>\n",
       "      <td>Savings</td>\n",
       "      <td>8.455332</td>\n",
       "      <td>11.971410</td>\n",
       "      <td>GT Bank</td>\n",
       "      <td>NaN</td>\n",
       "      <td>Permanent</td>\n",
       "      <td>NaN</td>\n",
       "    </tr>\n",
       "  </tbody>\n",
       "</table>\n",
       "</div>"
      ],
      "text/plain": [
       "                         customerid  birthdate bank_account_type  \\\n",
       "0  8a858e135cb22031015cbafc76964ebd 1973-10-10           Savings   \n",
       "1  8a858e275c7ea5ec015c82482d7c3996 1986-01-21           Savings   \n",
       "2  8a858e5b5bd99460015bdc95cd485634 1987-04-01           Savings   \n",
       "3  8a858efd5ca70688015cabd1f1e94b55 1991-07-19           Savings   \n",
       "4  8a858e785acd3412015acd48f4920d04 1982-11-22           Savings   \n",
       "\n",
       "   longitude_gps  latitude_gps bank_name_clients bank_branch_clients  \\\n",
       "0       3.319219      6.528604           GT Bank                 NaN   \n",
       "1       3.325598      7.119403     Sterling Bank                 NaN   \n",
       "2       5.746100      5.563174     Fidelity Bank                 NaN   \n",
       "3       3.362850      6.642485           GT Bank                 NaN   \n",
       "4       8.455332     11.971410           GT Bank                 NaN   \n",
       "\n",
       "  employment_status_clients level_of_education_clients  \n",
       "0                       NaN                        NaN  \n",
       "1                 Permanent                        NaN  \n",
       "2                       NaN                        NaN  \n",
       "3                 Permanent                        NaN  \n",
       "4                 Permanent                        NaN  "
      ]
     },
     "execution_count": 30,
     "metadata": {},
     "output_type": "execute_result"
    }
   ],
   "source": [
    "traindemographics.head()"
   ]
  },
  {
   "cell_type": "code",
   "execution_count": 31,
   "metadata": {
    "_uuid": "79099b89ea0da6d7744eb3a5d8a58ce7fba7a708"
   },
   "outputs": [
    {
     "name": "stdout",
     "output_type": "stream",
     "text": [
      "                            Missing Ratio\n",
      "bank_branch_clients             98.826507\n",
      "level_of_education_clients      86.493327\n",
      "employment_status_clients       14.910262\n"
     ]
    }
   ],
   "source": [
    "get_percent_of_missing(traindemographics)"
   ]
  },
  {
   "cell_type": "code",
   "execution_count": 32,
   "metadata": {
    "_uuid": "be2d52ca1a47ee370598b009103e68b942265db1"
   },
   "outputs": [],
   "source": [
    "# traindemographics['employment_status_clients'].isnull().sum()"
   ]
  },
  {
   "cell_type": "code",
   "execution_count": 33,
   "metadata": {
    "_uuid": "15df23c9f175781aa472509408c592b0fdfe6f5e"
   },
   "outputs": [],
   "source": [
    "def process_demographics(df):\n",
    "    proc_df = df.copy()\n",
    "    #Let's extract info from the birthdate\n",
    "    proc_df['customers_age'] = 2018 - proc_df['birthdate'].dt.year\n",
    "    #We'll drop the bank_branch_clients and level_of_education_clients because they contain too many missing values\n",
    "    proc_df.drop(['level_of_education_clients','bank_branch_clients','birthdate'], axis=1, inplace=True)\n",
    "    return proc_df"
   ]
  },
  {
   "cell_type": "code",
   "execution_count": 34,
   "metadata": {
    "_uuid": "017da5fb1156cf53cee632bb83b2665b42129ebd"
   },
   "outputs": [
    {
     "data": {
      "text/html": [
       "<div>\n",
       "<style scoped>\n",
       "    .dataframe tbody tr th:only-of-type {\n",
       "        vertical-align: middle;\n",
       "    }\n",
       "\n",
       "    .dataframe tbody tr th {\n",
       "        vertical-align: top;\n",
       "    }\n",
       "\n",
       "    .dataframe thead th {\n",
       "        text-align: right;\n",
       "    }\n",
       "</style>\n",
       "<table border=\"1\" class=\"dataframe\">\n",
       "  <thead>\n",
       "    <tr style=\"text-align: right;\">\n",
       "      <th></th>\n",
       "      <th>customerid</th>\n",
       "      <th>bank_account_type</th>\n",
       "      <th>longitude_gps</th>\n",
       "      <th>latitude_gps</th>\n",
       "      <th>bank_name_clients</th>\n",
       "      <th>employment_status_clients</th>\n",
       "      <th>customers_age</th>\n",
       "    </tr>\n",
       "  </thead>\n",
       "  <tbody>\n",
       "    <tr>\n",
       "      <th>0</th>\n",
       "      <td>8a858f305c8dd672015c93b1db645db4</td>\n",
       "      <td>Savings</td>\n",
       "      <td>5.296628</td>\n",
       "      <td>7.593965</td>\n",
       "      <td>Heritage Bank</td>\n",
       "      <td>Permanent</td>\n",
       "      <td>42</td>\n",
       "    </tr>\n",
       "    <tr>\n",
       "      <th>1</th>\n",
       "      <td>8a858f085a477386015a47fb049e49ca</td>\n",
       "      <td>Savings</td>\n",
       "      <td>3.294513</td>\n",
       "      <td>6.596602</td>\n",
       "      <td>UBA</td>\n",
       "      <td>Permanent</td>\n",
       "      <td>40</td>\n",
       "    </tr>\n",
       "    <tr>\n",
       "      <th>2</th>\n",
       "      <td>8a858e6f5cd5e874015cd6f5634c39ad</td>\n",
       "      <td>Savings</td>\n",
       "      <td>8.501912</td>\n",
       "      <td>7.729364</td>\n",
       "      <td>First Bank</td>\n",
       "      <td>Permanent</td>\n",
       "      <td>34</td>\n",
       "    </tr>\n",
       "    <tr>\n",
       "      <th>3</th>\n",
       "      <td>8a858e9d5bfd7037015bfdab79f61305</td>\n",
       "      <td>Savings</td>\n",
       "      <td>3.318904</td>\n",
       "      <td>6.681595</td>\n",
       "      <td>UBA</td>\n",
       "      <td>Permanent</td>\n",
       "      <td>35</td>\n",
       "    </tr>\n",
       "    <tr>\n",
       "      <th>4</th>\n",
       "      <td>8a858fde56eb02280156eb6dafc128ac</td>\n",
       "      <td>Savings</td>\n",
       "      <td>6.354624</td>\n",
       "      <td>4.949031</td>\n",
       "      <td>First Bank</td>\n",
       "      <td>Self-Employed</td>\n",
       "      <td>36</td>\n",
       "    </tr>\n",
       "  </tbody>\n",
       "</table>\n",
       "</div>"
      ],
      "text/plain": [
       "                         customerid bank_account_type  longitude_gps  \\\n",
       "0  8a858f305c8dd672015c93b1db645db4           Savings       5.296628   \n",
       "1  8a858f085a477386015a47fb049e49ca           Savings       3.294513   \n",
       "2  8a858e6f5cd5e874015cd6f5634c39ad           Savings       8.501912   \n",
       "3  8a858e9d5bfd7037015bfdab79f61305           Savings       3.318904   \n",
       "4  8a858fde56eb02280156eb6dafc128ac           Savings       6.354624   \n",
       "\n",
       "   latitude_gps bank_name_clients employment_status_clients  customers_age  \n",
       "0      7.593965     Heritage Bank                 Permanent             42  \n",
       "1      6.596602               UBA                 Permanent             40  \n",
       "2      7.729364        First Bank                 Permanent             34  \n",
       "3      6.681595               UBA                 Permanent             35  \n",
       "4      4.949031        First Bank             Self-Employed             36  "
      ]
     },
     "execution_count": 34,
     "metadata": {},
     "output_type": "execute_result"
    }
   ],
   "source": [
    "new_traindemo = process_demographics(traindemographics)\n",
    "new_test = process_demographics(testdemographics)\n",
    "\n",
    "new_test.head()"
   ]
  },
  {
   "cell_type": "code",
   "execution_count": 35,
   "metadata": {
    "_uuid": "015eb5d30a6512e2a3f575e41a729e2902dec48c"
   },
   "outputs": [
    {
     "data": {
      "text/plain": [
       "(4368, 99)"
      ]
     },
     "execution_count": 35,
     "metadata": {},
     "output_type": "execute_result"
    }
   ],
   "source": [
    "merged_data = merged_data.drop_duplicates('customerid')\n",
    "test = test.drop_duplicates('customerid')\n",
    "new_traindemo = new_traindemo.drop_duplicates('customerid')\n",
    "new_test = new_test.drop_duplicates('customerid')\n",
    "\n",
    "final_data = merge_2_df(merged_data,new_traindemo)\n",
    "final_test = merge_2_df(test,new_test)\n",
    "\n",
    "final_data.shape"
   ]
  },
  {
   "cell_type": "code",
   "execution_count": 36,
   "metadata": {
    "_uuid": "913f00f951e4fd13d393e0f9b0a7bba2580c2128"
   },
   "outputs": [
    {
     "data": {
      "text/plain": [
       "(1450, 99)"
      ]
     },
     "execution_count": 36,
     "metadata": {},
     "output_type": "execute_result"
    }
   ],
   "source": [
    "final_test.shape"
   ]
  },
  {
   "cell_type": "code",
   "execution_count": 37,
   "metadata": {
    "_uuid": "6d3d249e3173973f3a5a4c63644bd7baaeb5eb04"
   },
   "outputs": [
    {
     "data": {
      "text/plain": [
       "(4368, 4501)"
      ]
     },
     "execution_count": 37,
     "metadata": {},
     "output_type": "execute_result"
    }
   ],
   "source": [
    "final_data = pd.get_dummies(final_data)\n",
    "final_test = pd.get_dummies(final_test)\n",
    "\n",
    "final_data.shape"
   ]
  },
  {
   "cell_type": "code",
   "execution_count": 38,
   "metadata": {
    "_uuid": "a491a9dceeccb2f435c03a370e59259c14e988f3"
   },
   "outputs": [
    {
     "name": "stdout",
     "output_type": "stream",
     "text": [
      "Shape of final train is: (4368, 130)\n",
      "Shape of final test is: (1450, 130)\n"
     ]
    }
   ],
   "source": [
    "#Align dataset\n",
    "final_train, final_test = final_data.align(final_test, join = 'inner', axis = 1)\n",
    "print(\"Shape of final train is:\", final_train.shape)\n",
    "print(\"Shape of final test is:\", final_test.shape)"
   ]
  },
  {
   "cell_type": "code",
   "execution_count": 39,
   "metadata": {
    "_uuid": "49504289e706c472488280c5c78684277bd58a76"
   },
   "outputs": [],
   "source": [
    "# train_2_save = final_train\n",
    "# train_2_save['target'] = target\n",
    "# train_2_save.head()"
   ]
  },
  {
   "cell_type": "code",
   "execution_count": 40,
   "metadata": {
    "_uuid": "cd9c1d6ce590941bba67542f200a558927649446"
   },
   "outputs": [],
   "source": [
    "# train_2_save.to_csv(\"DSN_loan_default_ensemble_train.csv\", index=False)"
   ]
  },
  {
   "cell_type": "code",
   "execution_count": 41,
   "metadata": {},
   "outputs": [],
   "source": [
    "from sklearn.pipeline import make_pipeline\n",
    "from sklearn.preprocessing import RobustScaler\n",
    "from sklearn.model_selection import KFold, cross_val_score, train_test_split, StratifiedKFold\n",
    "from sklearn.metrics import mean_squared_error,make_scorer\n",
    "from sklearn.model_selection import RandomizedSearchCV, GridSearchCV\n",
    "from sklearn.metrics import roc_curve\n",
    "from sklearn.metrics import confusion_matrix\n",
    "from sklearn.metrics import precision_score\n",
    "from sklearn.metrics import recall_score\n",
    "from sklearn.metrics import f1_score, accuracy_score\n",
    "\n",
    "import xgboost as xgb\n",
    "import lightgbm as lgb"
   ]
  },
  {
   "cell_type": "code",
   "execution_count": 99,
   "metadata": {},
   "outputs": [],
   "source": [
    "def sc_acc(ground_truth,predictions):\n",
    "    acc = accuracy_score(ground_truth, predictions)\n",
    "    return acc\n",
    "\n",
    "def sc_f1(ground_truth,predictions):\n",
    "    acc = f1_score(ground_truth, predictions)\n",
    "    return acc\n",
    "\n",
    "def sc_prec(ground_truth,predictions):\n",
    "    acc = precision_score(ground_truth, predictions)\n",
    "    return acc\n",
    "\n",
    "def sc_recall(ground_truth,predictions):\n",
    "    acc = recall_score(ground_truth, predictions)\n",
    "    return acc\n",
    "\n",
    "def confusion(ground_truth,predictions):\n",
    "    acc = confusion_matrix(ground_truth, predictions)\n",
    "    return acc\n",
    "\n",
    "funcs = [sc_acc, sc_f1, sc_prec, sc_recall]\n",
    "\n",
    "\n",
    "def cross_val(model, data, label):\n",
    "    sf = StratifiedKFold(n_splits=4, shuffle=True, random_state=42).get_n_splits(data)\n",
    "    met = cross_val_score(model, data, label, scoring= custom_scorer, cv = sf)\n",
    "    return np.mean(met) #Remove negative sign\n",
    "\n",
    "\n",
    "def plot_importance(df):\n",
    "    #Sort values by index\n",
    "    df = df.sort_values('importance', ascending = False).reset_index()\n",
    "    #Normalize between 0 and 1\n",
    "    df['importance'] = df['importance'] / df['importance'].sum()\n",
    "    # Make a horizontal bar chart of feature importances\n",
    "    plt.figure(figsize = (15, 10))\n",
    "    ax = plt.subplot()\n",
    "    # Need to reverse the index to plot most important on top\n",
    "    ax.barh(list(reversed(list(df.index[:10]))), \n",
    "            df['importance'].head(10), \n",
    "            align = 'center', edgecolor = 'k')\n",
    "    \n",
    "    # Set the yticks and labels\n",
    "    ax.set_yticks(list(reversed(list(df.index[:10]))))\n",
    "    ax.set_yticklabels(df['feature'].head(10))\n",
    "    # Plot labeling\n",
    "    plt.xlabel('Normalized Importance'); plt.title('Feature Importances')\n",
    "    plt.savefig('importance.png')\n",
    "    plt.show()"
   ]
  },
  {
   "cell_type": "code",
   "execution_count": 96,
   "metadata": {},
   "outputs": [],
   "source": [
    "# param_lgb ={'num_leaves': [40,50,60], \n",
    "#             'max_depth':  [5,6,7], \n",
    "#             'learning_rate':  [0.01, 0.1, 0.002], \n",
    "#              'colsample_bytree':  [0.5,0.8, 1], \n",
    "#              'min_child_weight': [1e-5, 1e-3, 1e-2 ],\n",
    "#              'reg_alpha': [0, 1e-1, 1],\n",
    "#              'reg_lambda': [0, 1e-1, 1],\n",
    "#             'subsample': [0.5,0.8,1],\n",
    "#                'n_estimators': [200,400,500]}\n",
    "\n",
    "# gs = GridSearchCV(xgb_model, param_lgb, cv=5)\n",
    "          \n",
    "\n",
    "# gs.fit(final_train,target)\n",
    "# print('Best score reached: {} with params: {} '.format(gs.best_score_, gs.best_params_))"
   ]
  },
  {
   "cell_type": "code",
   "execution_count": 72,
   "metadata": {},
   "outputs": [],
   "source": [
    "xgb_model = xgb.XGBClassifier(n_estimators=1000, \n",
    "                              learning_rate=0.01, \n",
    "                              subsample=0.8,max_depth=6 )   \n",
    "\n",
    "# lgb_model = lgb.LGBMClassifier(n_estimators=1000, learning_rate=0.01, class_weight='balanced')\n",
    "    \n",
    "# for func in funcs:\n",
    "#     custom_scorer = make_scorer(func, greater_is_better=False)\n",
    "#     print(cross_val(xgb_model, final_train, target))"
   ]
  },
  {
   "cell_type": "code",
   "execution_count": 73,
   "metadata": {
    "_uuid": "c14acf9de941ee4ee63cbcc825a08e4a0318a402"
   },
   "outputs": [],
   "source": [
    "from sklearn.model_selection import train_test_split\n",
    "X_train, X_test, y_train, y_test = train_test_split(final_train, target, test_size=0.2)\n",
    "\n",
    "xgb_model.fit(X_train, y_train)\n",
    "pred = xgb_model.predict(X_test)"
   ]
  },
  {
   "cell_type": "code",
   "execution_count": 79,
   "metadata": {},
   "outputs": [],
   "source": [
    "def metrics(pred, val_label):\n",
    "    acc = accuracy_score(val_label, pred)\n",
    "    f1 = f1_score(val_label, pred)\n",
    "    precision = precision_score(val_label, pred)\n",
    "    recall = recall_score(val_label, pred)\n",
    "    confusion_mat = confusion_matrix(val_label, pred)\n",
    "    \n",
    "    print(\"Accuracy is \", round(acc * 100))\n",
    "    print(\"F1 score is \", round(f1 * 100))\n",
    "    print(\"Precision is \", round(precision * 100))\n",
    "    print(\"Recall is \", round(recall * 100))\n",
    "    print(\"confusion Matrix is \", confusion_mat)\n",
    "    \n",
    "    fpr, tpr, thresholds = roc_curve(val_label, pred)\n",
    "    # plot no skill\n",
    "    plt.plot([0, 1], [0, 1], linestyle='--')\n",
    "    # plot the roc curve for the model\n",
    "    plt.plot(fpr, tpr, marker='.')\n",
    "    # show the plot\n",
    "    plt.title(\"roc curve for the model\")\n",
    "    plt.show()\n",
    "    plt.savefig(\"roc_plot.png\")\n",
    "\n"
   ]
  },
  {
   "cell_type": "code",
   "execution_count": 80,
   "metadata": {},
   "outputs": [
    {
     "name": "stdout",
     "output_type": "stream",
     "text": [
      "Accuracy is  78.0\n",
      "F1 score is  88.0\n",
      "Precision is  79.0\n",
      "Recall is  98.0\n",
      "confusion Matrix is  [[ 15 175]\n",
      " [ 14 670]]\n"
     ]
    },
    {
     "data": {
      "image/png": "[encoded data removed]",
      "text/plain": [
       "<Figure size 432x288 with 1 Axes>"
      ]
     },
     "metadata": {
      "needs_background": "light"
     },
     "output_type": "display_data"
    },
    {
     "data": {
      "text/plain": [
       "<Figure size 432x288 with 0 Axes>"
      ]
     },
     "metadata": {},
     "output_type": "display_data"
    }
   ],
   "source": [
    "metrics(pred, y_test)"
   ]
  },
  {
   "cell_type": "code",
   "execution_count": 77,
   "metadata": {},
   "outputs": [
    {
     "name": "stdout",
     "output_type": "stream",
     "text": [
      "Accuracy:  0.7837528604118993\n",
      "Accuracy:  0.97953216374269\n",
      "Accuracy:  0.7928994082840237\n",
      "Accuracy:  0.8763897972531067\n"
     ]
    }
   ],
   "source": [
    "print(\"Accuracy: \", accuracy_score(pred, y_test))\n",
    "print(\"Accuracy: \", precision_score(pred, y_test))\n",
    "print(\"Accuracy: \", recall_score(pred, y_test))\n",
    "print(\"Accuracy: \", f1_score(pred, y_test))"
   ]
  },
  {
   "cell_type": "code",
   "execution_count": 100,
   "metadata": {},
   "outputs": [],
   "source": [
    "cols = final_train.columns\n",
    "importances = xgb_model.feature_importances_\n",
    "\n",
    "feat_import = pd.DataFrame({'feature': cols, 'importance': importances})"
   ]
  },
  {
   "cell_type": "code",
   "execution_count": 101,
   "metadata": {},
   "outputs": [
    {
     "data": {
      "image/png": "[encoded data removed]",
      "text/plain": [
       "<Figure size 1080x720 with 1 Axes>"
      ]
     },
     "metadata": {
      "needs_background": "light"
     },
     "output_type": "display_data"
    }
   ],
   "source": [
    "plot_importance(feat_import)"
   ]
  },
  {
   "cell_type": "code",
   "execution_count": null,
   "metadata": {},
   "outputs": [],
   "source": []
  }
 ],
 "metadata": {
  "kernelspec": {
   "display_name": "Python 3",
   "language": "python",
   "name": "python3"
  },
  "language_info": {
   "codemirror_mode": {
    "name": "ipython",
    "version": 3
   },
   "file_extension": ".py",
   "mimetype": "text/x-python",
   "name": "python",
   "nbconvert_exporter": "python",
   "pygments_lexer": "ipython3",
   "version": "3.7.3"
  }
 },
 "nbformat": 4,
 "nbformat_minor": 4
}
